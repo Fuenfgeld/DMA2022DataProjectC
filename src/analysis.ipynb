{
 "cells": [
  {
   "cell_type": "markdown",
   "metadata": {},
   "source": [
    "# Analysis"
   ]
  },
  {
   "cell_type": "code",
   "execution_count": null,
   "metadata": {},
   "outputs": [],
   "source": [
    "tables = [\n",
    "    \"careplans\",\n",
    "    \"conditions\",\n",
    "    \"devices\",\n",
    "    \"encounters\",\n",
    "    \"imaging_studies\",\n",
    "    \"immunizations\",\n",
    "    \"medications\",\n",
    "    \"observations\",\n",
    "    \"patients\",\n",
    "    \"procedures\",\n",
    "]"
   ]
  },
  {
   "cell_type": "code",
   "execution_count": null,
   "metadata": {},
   "outputs": [],
   "source": [
    "!mkdir -p data/allergy"
   ]
  },
  {
   "cell_type": "code",
   "execution_count": null,
   "metadata": {},
   "outputs": [],
   "source": [
    "from urllib.request import urlopen\n",
    "import os\n",
    "\n",
    "files = [\n",
    "    \"data/allergy/careplans.csv\",\n",
    "    \"data/allergy/conditions.csv\",\n",
    "    \"data/allergy/devices.csv\",\n",
    "    \"data/allergy/disease.csv\",\n",
    "    \"data/allergy/encounters.csv\",\n",
    "    \"data/allergy/imaging_studies.csv\",\n",
    "    \"data/allergy/immunizations.csv\",\n",
    "    \"data/allergy/medications.csv\",\n",
    "    \"data/allergy/observations.csv\",\n",
    "    \"data/allergy/patients.csv\",\n",
    "    \"data/allergy/payers.csv\",\n",
    "    \"data/allergy/procedures.csv\",\n",
    "    \"data/allergy/providers.csv\",\n",
    "    \"data/allergy/supplies.csv\",\n",
    "]\n",
    "\n",
    "def ensure_file_has_been_downloaded(filename):\n",
    "    full_filename = \"../\" + filename\n",
    "\n",
    "    url = \"https://raw.githubusercontent.com/Fuenfgeld/DMA2022DataProjectC/main/\" + filename\n",
    "    if os.path.isfile(full_filename):\n",
    "        print(\"File {} already exists, skipping download\".format(filename))\n",
    "    else:\n",
    "        print(\"Downloading {}\".format(filename))\n",
    "\n",
    "    download_file(url, full_filename)\n",
    "\n",
    "def download_file(url, filename):\n",
    "    with open(filename, 'wb') as out_file:\n",
    "        with urlopen(url) as file:\n",
    "            out_file.write(file.read())\n",
    "\n",
    "if not os.path.isfile(\"extract.py\"):\n",
    "    download_file(\n",
    "        \"https://raw.githubusercontent.com/Fuenfgeld/DMA2022DataProjectC/main/src/extract.py\",\n",
    "        \"extract.py\"\n",
    "    )\n",
    "\n",
    "for file in files:\n",
    "    ensure_file_has_been_downloaded(file)"
   ]
  },
  {
   "cell_type": "code",
   "execution_count": null,
   "metadata": {},
   "outputs": [],
   "source": [
    "import json\n",
    "import time\n",
    "\n",
    "def timestampInMilliseconds():\n",
    "    return int(round(time.time() * 1000))\n",
    "\n",
    "class Logger:\n",
    "    timings = {}\n",
    "    logs = []\n",
    "    print = lambda _self, message: print(message)\n",
    "\n",
    "    def addTiming(self, name):\n",
    "        self.timings[name] = timestampInMilliseconds()\n",
    "\n",
    "    def log(self, message, params = None, type = \"info\"):\n",
    "        jsonMessage = json.dumps(\n",
    "            {\"type\": type, \"time\": timestampInMilliseconds(), \"message\": message, \"params\": params},\n",
    "            ensure_ascii=False\n",
    "        )\n",
    "        self.print(jsonMessage)\n",
    "        self.logs.append(jsonMessage)\n",
    "\n",
    "    def logError(self, message, params = None):\n",
    "        self.log(message, params, \"error\")\n",
    "\n",
    "    def logTimings(self):\n",
    "        dbConnectionTime = self.timings[\"connected-to-db\"] - self.timings[\"start\"]\n",
    "        self.logWithTiming(f\"⏳ Connected to db in {dbConnectionTime}ms\", dbConnectionTime)\n",
    "\n",
    "        dataLoadingTime = self.timings[\"data-loaded\"] - self.timings[\"connected-to-db\"]\n",
    "        self.logWithTiming(f\"⏳ Data loaded in {dataLoadingTime}ms\", dataLoadingTime)\n",
    "\n",
    "    def logWithTiming(self, message, timingInMilliseconds):\n",
    "        self.log(message, {\"timingInMilliseconds\": timingInMilliseconds})\n",
    "\n",
    "    def writeToFile(self, fileName):\n",
    "        with open(fileName, 'w', encoding='utf-8') as fileHandle:\n",
    "            messages = \",\\n\".join(self.logs)\n",
    "            fileHandle.write(f\"[\\n{messages}\\n]\")\n"
   ]
  },
  {
   "cell_type": "code",
   "execution_count": null,
   "metadata": {},
   "outputs": [],
   "source": [
    "import extract\n",
    "import time\n",
    "\n",
    "tables = [\n",
    "    \"careplans\",\n",
    "    \"conditions\",\n",
    "    \"devices\",\n",
    "    \"disease\",\n",
    "    \"encounters\",\n",
    "    \"imaging_studies\",\n",
    "    \"immunizations\",\n",
    "    \"medications\",\n",
    "    \"observations\",\n",
    "    \"patients\",\n",
    "    \"procedures\",\n",
    "]\n",
    "\n",
    "logger = Logger()\n",
    "\n",
    "logger.addTiming('start')\n",
    "connection = extract.connect_to_db(logger, \"allergy.sqlite\")\n",
    "logger.addTiming('connected-to-db')\n",
    "\n",
    "for table in tables:\n",
    "    extract.insert_values_to_table(logger, connection.cursor(), table, \"../data/allergy/\" + table + \".csv\")\n",
    "    connection.commit()\n",
    "logger.addTiming('data-loaded')"
   ]
  },
  {
   "cell_type": "code",
   "execution_count": null,
   "metadata": {},
   "outputs": [],
   "source": [
    "connection.close()\n",
    "logger.logTimings()\n",
    "logger.writeToFile(\"../artefacts-for-release/analysis-log.json\")"
   ]
  }
 ],
 "metadata": {
  "interpreter": {
   "hash": "aee8b7b246df8f9039afb4144a1f6fd8d2ca17a180786b69acc140d282b71a49"
  },
  "kernelspec": {
   "display_name": "Python 3.9.12 64-bit",
   "language": "python",
   "name": "python3"
  },
  "language_info": {
   "codemirror_mode": {
    "name": "ipython",
    "version": 3
   },
   "file_extension": ".py",
   "mimetype": "text/x-python",
   "name": "python",
   "nbconvert_exporter": "python",
   "pygments_lexer": "ipython3",
   "version": "3.9.13"
  },
  "orig_nbformat": 4
 },
 "nbformat": 4,
 "nbformat_minor": 2
}
