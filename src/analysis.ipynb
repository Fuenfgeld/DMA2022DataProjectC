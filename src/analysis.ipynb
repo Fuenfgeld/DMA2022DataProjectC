{
 "cells": [
  {
   "cell_type": "markdown",
   "metadata": {},
   "source": [
    "# Analysis"
   ]
  },
  {
   "cell_type": "markdown",
   "metadata": {},
   "source": [
    "## Setup\n",
    "\n",
    "Zuerst laden wir die benötigten Daten herunter und initialisieren die genutzten Python Objekte."
   ]
  },
  {
   "cell_type": "code",
   "execution_count": 1,
   "metadata": {},
   "outputs": [],
   "source": [
    "tables = [\n",
    "    \"careplans\",\n",
    "    \"conditions\",\n",
    "    \"observations\",\n",
    "    \"patients\",\n",
    "]\n",
    "\n",
    "files = [\n",
    "    \"data/others/\",\n",
    "    \"data/asthma/\",\n",
    "    \"data/gallstones/\",\n",
    "    \"data/hypertension/\",\n",
    "]"
   ]
  },
  {
   "cell_type": "code",
   "execution_count": 2,
   "metadata": {},
   "outputs": [],
   "source": [
    "!mkdir -p data/allergy"
   ]
  },
  {
   "cell_type": "code",
   "execution_count": 2,
   "metadata": {},
   "outputs": [
    {
     "name": "stdout",
     "output_type": "stream",
     "text": [
      "File data/others/careplans.csv already exists, skipping download\n",
      "File data/others/conditions.csv already exists, skipping download\n",
      "File data/others/observations.csv already exists, skipping download\n",
      "File data/others/patients.csv already exists, skipping download\n",
      "File data/asthma/careplans.csv already exists, skipping download\n",
      "File data/asthma/conditions.csv already exists, skipping download\n",
      "File data/asthma/observations.csv already exists, skipping download\n",
      "File data/asthma/patients.csv already exists, skipping download\n",
      "File data/gallstones/careplans.csv already exists, skipping download\n",
      "File data/gallstones/conditions.csv already exists, skipping download\n",
      "File data/gallstones/observations.csv already exists, skipping download\n",
      "File data/gallstones/patients.csv already exists, skipping download\n",
      "File data/hypertension/careplans.csv already exists, skipping download\n",
      "File data/hypertension/conditions.csv already exists, skipping download\n",
      "File data/hypertension/observations.csv already exists, skipping download\n",
      "File data/hypertension/patients.csv already exists, skipping download\n"
     ]
    }
   ],
   "source": [
    "from urllib.request import urlopen\n",
    "import os\n",
    "\n",
    "def ensure_file_has_been_downloaded(filename):\n",
    "    full_filename = \"../\" + filename\n",
    "\n",
    "    url = \"https://raw.githubusercontent.com/Fuenfgeld/DMA2022DataProjectC/main/\" + filename\n",
    "    if os.path.isfile(full_filename):\n",
    "        print(\"File {} already exists, skipping download\".format(filename))\n",
    "    else:\n",
    "        print(\"Downloading {}\".format(filename))\n",
    "        download_file(url, full_filename)\n",
    "\n",
    "def download_file(url, filename):\n",
    "    with open(filename, 'wb') as out_file:\n",
    "        with urlopen(url) as file:\n",
    "            out_file.write(file.read())\n",
    "\n",
    "if not os.path.isfile(\"extract.py\"):\n",
    "    download_file(\n",
    "        \"https://raw.githubusercontent.com/Fuenfgeld/DMA2022DataProjectC/main/src/extract.py\",\n",
    "        \"extract.py\"\n",
    "    )\n",
    "\n",
    "for file in files:\n",
    "    for table in tables:\n",
    "        ensure_file_has_been_downloaded(file+table+\".csv\")"
   ]
  },
  {
   "cell_type": "code",
   "execution_count": 3,
   "metadata": {},
   "outputs": [],
   "source": [
    "from logger import Logger\n",
    "from test_executer import TestExecutor\n",
    "\n",
    "logger = Logger()\n",
    "testExecutor = TestExecutor(logger)"
   ]
  },
  {
   "cell_type": "markdown",
   "metadata": {},
   "source": [
    "## Mit Datenbank verbinden"
   ]
  },
  {
   "cell_type": "code",
   "execution_count": 4,
   "metadata": {},
   "outputs": [],
   "source": [
    "import extract\n",
    "import time\n",
    "\n",
    "databaseFile = \"data.sqlite\"\n",
    "\n",
    "logger.startTimeMeasurement('open-db', 'Connected to db and created tables')\n",
    "connection = extract.connect_to_db(logger, databaseFile)\n",
    "logger.endTimeMeasurement('open-db')"
   ]
  },
  {
   "cell_type": "code",
   "execution_count": 5,
   "metadata": {},
   "outputs": [
    {
     "name": "stdout",
     "output_type": "stream",
     "text": [
      "{\"type\": \"info\", \"time\": 1656009903598, \"message\": \"✅ Test ran successfully: Test connection to database\", \"params\": null}\n"
     ]
    }
   ],
   "source": [
    "def test_sqliteConnection(_logger):\n",
    "    cursor = connection.cursor()\n",
    "    cursor.execute(\"SELECT name FROM sqlite_master WHERE type='table'\")\n",
    "    tablesInDb = list(map(lambda tableResult: tableResult[0], cursor.fetchall()))\n",
    "    tablesInDb.sort()\n",
    "\n",
    "    for table in tables:\n",
    "        if not(table in tablesInDb):\n",
    "            raise Exception('Table not found:', table)\n",
    "\n",
    "testExecutor.execute('Test connection to database', test_sqliteConnection)"
   ]
  },
  {
   "cell_type": "markdown",
   "metadata": {},
   "source": [
    "## Daten in Datenbank laden"
   ]
  },
  {
   "cell_type": "code",
   "execution_count": 6,
   "metadata": {},
   "outputs": [
    {
     "name": "stdout",
     "output_type": "stream",
     "text": [
      "{\"type\": \"info\", \"time\": 1656009905704, \"message\": \"🏗 Extracting data from ../data/others/careplans.csv\", \"params\": null}\n",
      "{\"type\": \"info\", \"time\": 1656009905731, \"message\": \"🏗 Extracting data from ../data/others/conditions.csv\", \"params\": null}\n",
      "{\"type\": \"info\", \"time\": 1656009905847, \"message\": \"🏗 Extracting data from ../data/others/observations.csv\", \"params\": null}\n",
      "{\"type\": \"info\", \"time\": 1656009909273, \"message\": \"🏗 Extracting data from ../data/others/patients.csv\", \"params\": null}\n",
      "{\"type\": \"info\", \"time\": 1656009909290, \"message\": \"🏗 Extracting data from ../data/asthma/careplans.csv\", \"params\": null}\n",
      "{\"type\": \"info\", \"time\": 1656009909305, \"message\": \"🏗 Extracting data from ../data/asthma/conditions.csv\", \"params\": null}\n",
      "{\"type\": \"info\", \"time\": 1656009909501, \"message\": \"🏗 Extracting data from ../data/asthma/observations.csv\", \"params\": null}\n",
      "{\"type\": \"info\", \"time\": 1656009911434, \"message\": \"🏗 Extracting data from ../data/asthma/patients.csv\", \"params\": null}\n",
      "{\"type\": \"info\", \"time\": 1656009911443, \"message\": \"🏗 Extracting data from ../data/gallstones/careplans.csv\", \"params\": null}\n",
      "{\"type\": \"info\", \"time\": 1656009911452, \"message\": \"🏗 Extracting data from ../data/gallstones/conditions.csv\", \"params\": null}\n",
      "{\"type\": \"info\", \"time\": 1656009911501, \"message\": \"🏗 Extracting data from ../data/gallstones/observations.csv\", \"params\": null}\n",
      "{\"type\": \"info\", \"time\": 1656009912597, \"message\": \"🏗 Extracting data from ../data/gallstones/patients.csv\", \"params\": null}\n",
      "{\"type\": \"info\", \"time\": 1656009912604, \"message\": \"🏗 Extracting data from ../data/hypertension/careplans.csv\", \"params\": null}\n",
      "{\"type\": \"info\", \"time\": 1656009912613, \"message\": \"🏗 Extracting data from ../data/hypertension/conditions.csv\", \"params\": null}\n",
      "{\"type\": \"info\", \"time\": 1656009912695, \"message\": \"🏗 Extracting data from ../data/hypertension/observations.csv\", \"params\": null}\n",
      "{\"type\": \"info\", \"time\": 1656009913927, \"message\": \"🏗 Extracting data from ../data/hypertension/patients.csv\", \"params\": null}\n"
     ]
    }
   ],
   "source": [
    "logger.startTimeMeasurement('load-data', 'Loading data into db')\n",
    "for file in files:\n",
    "    for table in tables:\n",
    "        extract.insert_values_to_table(logger, connection.cursor(), table, \"../\"+file+ table + \".csv\")\n",
    "        connection.commit()\n",
    "    logger.endTimeMeasurement('load-data')"
   ]
  },
  {
   "cell_type": "markdown",
   "metadata": {},
   "source": [
    "## Aufräumen & Logs speichern"
   ]
  },
  {
   "cell_type": "code",
   "execution_count": 7,
   "metadata": {},
   "outputs": [
    {
     "name": "stdout",
     "output_type": "stream",
     "text": [
      "{\"type\": \"info\", \"time\": 1656009916010, \"message\": \"⏳ Connected to db and created tables in 24ms\", \"params\": {\"timingInMilliseconds\": 24}}\n",
      "{\"type\": \"info\", \"time\": 1656009916010, \"message\": \"⏳ Loading data into db in 8233ms\", \"params\": {\"timingInMilliseconds\": 8233}}\n"
     ]
    }
   ],
   "source": [
    "connection.close()\n",
    "logger.logTimings()\n",
    "logger.writeToFile(\"../artefacts-for-release/analysis-log.json\")"
   ]
  }
 ],
 "metadata": {
  "kernelspec": {
   "display_name": "Python 3.8.10 64-bit",
   "language": "python",
   "name": "python3"
  },
  "language_info": {
   "codemirror_mode": {
    "name": "ipython",
    "version": 3
   },
   "file_extension": ".py",
   "mimetype": "text/x-python",
   "name": "python",
   "nbconvert_exporter": "python",
   "pygments_lexer": "ipython3",
   "version": "3.8.10"
  },
  "orig_nbformat": 4,
  "vscode": {
   "interpreter": {
    "hash": "916dbcbb3f70747c44a77c7bcd40155683ae19c65e1c03b4aa3499c5328201f1"
   }
  }
 },
 "nbformat": 4,
 "nbformat_minor": 2
}
