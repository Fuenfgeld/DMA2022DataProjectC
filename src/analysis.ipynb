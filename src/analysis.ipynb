{
 "cells": [
  {
   "cell_type": "markdown",
   "metadata": {},
   "source": [
    "# Analysis"
   ]
  },
  {
   "cell_type": "markdown",
   "metadata": {},
   "source": [
    "## Setup\n",
    "\n",
    "Zuerst laden wir die benötigten Daten herunter und initialisieren die genutzten Python Objekte."
   ]
  },
  {
   "cell_type": "code",
   "execution_count": 1,
   "metadata": {},
   "outputs": [],
   "source": [
    "tables = [\n",
    "    \"careplans\",\n",
    "    \"conditions\",\n",
    "    \"observations\",\n",
    "    \"patients\",\n",
    "]\n",
    "\n",
    "files = [\n",
    "    \"data/others/\",\n",
    "    \"data/asthma/\",\n",
    "    \"data/gallstones/\",\n",
    "    \"data/hypertension/\",\n",
    "]"
   ]
  },
  {
   "cell_type": "code",
   "execution_count": 2,
   "metadata": {},
   "outputs": [
    {
     "name": "stderr",
     "output_type": "stream",
     "text": [
      "Syntaxfehler.\n"
     ]
    }
   ],
   "source": [
    "!mkdir -p data/allergy"
   ]
  },
  {
   "cell_type": "code",
   "execution_count": 3,
   "metadata": {},
   "outputs": [
    {
     "name": "stdout",
     "output_type": "stream",
     "text": [
      "File data/others/careplans.csv already exists, skipping download\n",
      "File data/others/conditions.csv already exists, skipping download\n",
      "File data/others/observations.csv already exists, skipping download\n",
      "File data/others/patients.csv already exists, skipping download\n",
      "File data/asthma/careplans.csv already exists, skipping download\n",
      "File data/asthma/conditions.csv already exists, skipping download\n",
      "File data/asthma/observations.csv already exists, skipping download\n",
      "File data/asthma/patients.csv already exists, skipping download\n",
      "File data/gallstones/careplans.csv already exists, skipping download\n",
      "File data/gallstones/conditions.csv already exists, skipping download\n",
      "File data/gallstones/observations.csv already exists, skipping download\n",
      "File data/gallstones/patients.csv already exists, skipping download\n",
      "File data/hypertension/careplans.csv already exists, skipping download\n",
      "File data/hypertension/conditions.csv already exists, skipping download\n",
      "File data/hypertension/observations.csv already exists, skipping download\n",
      "File data/hypertension/patients.csv already exists, skipping download\n"
     ]
    }
   ],
   "source": [
    "from urllib.request import urlopen\n",
    "import os\n",
    "\n",
    "def ensure_file_has_been_downloaded(filename):\n",
    "    full_filename = \"../\" + filename\n",
    "\n",
    "    url = \"https://raw.githubusercontent.com/Fuenfgeld/DMA2022DataProjectC/main/\" + filename\n",
    "    if os.path.isfile(full_filename):\n",
    "        print(\"File {} already exists, skipping download\".format(filename))\n",
    "    else:\n",
    "        print(\"Downloading {}\".format(filename))\n",
    "        download_file(url, full_filename)\n",
    "\n",
    "def download_file(url, filename):\n",
    "    with open(filename, 'wb') as out_file:\n",
    "        with urlopen(url) as file:\n",
    "            out_file.write(file.read())\n",
    "\n",
    "if not os.path.isfile(\"extract.py\"):\n",
    "    download_file(\n",
    "        \"https://raw.githubusercontent.com/Fuenfgeld/DMA2022DataProjectC/main/src/extract.py\",\n",
    "        \"extract.py\"\n",
    "    )\n",
    "\n",
    "for file in files:\n",
    "    for table in tables:\n",
    "        ensure_file_has_been_downloaded(file+table+\".csv\")"
   ]
  },
  {
   "cell_type": "code",
   "execution_count": 4,
   "metadata": {},
   "outputs": [],
   "source": [
    "from logger import Logger\n",
    "from test_executer import TestExecutor\n",
    "\n",
    "logger = Logger()\n",
    "testExecutor = TestExecutor(logger)"
   ]
  },
  {
   "cell_type": "markdown",
   "metadata": {},
   "source": [
    "## Mit Datenbank verbinden"
   ]
  },
  {
   "cell_type": "code",
   "execution_count": 5,
   "metadata": {},
   "outputs": [],
   "source": [
    "import extract\n",
    "import time\n",
    "\n",
    "databaseFile = \"data.sqlite\"\n",
    "\n",
    "logger.startTimeMeasurement('open-db', 'Connected to db and created tables')\n",
    "connection = extract.connect_to_db(logger, databaseFile)  # create table patients, observations, conditions, careplans\n",
    "logger.endTimeMeasurement('open-db')"
   ]
  },
  {
   "cell_type": "code",
   "execution_count": 6,
   "metadata": {},
   "outputs": [
    {
     "name": "stdout",
     "output_type": "stream",
     "text": [
      "{\"type\": \"info\", \"time\": 1656406551774, \"message\": \"✅ Test ran successfully: Test connection to database\", \"params\": null}\n"
     ]
    }
   ],
   "source": [
    "def test_sqliteConnection(_logger):\n",
    "    cursor = connection.cursor()\n",
    "    cursor.execute(\"SELECT name FROM sqlite_master WHERE type='table'\")\n",
    "    tablesInDb = list(map(lambda tableResult: tableResult[0], cursor.fetchall()))\n",
    "    tablesInDb.sort()\n",
    "\n",
    "    for table in tables:\n",
    "        if not(table in tablesInDb):\n",
    "            raise Exception('Table not found:', table)\n",
    "\n",
    "testExecutor.execute('Test connection to database', test_sqliteConnection)"
   ]
  },
  {
   "cell_type": "markdown",
   "metadata": {},
   "source": [
    "## Daten in Datenbank laden\n",
    "\n",
    "Lade der verwendete Daten in die Datenbank:\n",
    "\n",
    "-   careplans\n",
    "-   conditions\n",
    "-   observations\n",
    "-   patients"
   ]
  },
  {
   "cell_type": "code",
   "execution_count": 7,
   "metadata": {},
   "outputs": [
    {
     "name": "stdout",
     "output_type": "stream",
     "text": [
      "{\"type\": \"info\", \"time\": 1656406551863, \"message\": \"🏗 Extracting data from ../data/others/careplans.csv\", \"params\": null}\n",
      "{\"type\": \"info\", \"time\": 1656406551872, \"message\": \"🏗 Extracting data from ../data/others/conditions.csv\", \"params\": null}\n",
      "{\"type\": \"info\", \"time\": 1656406551916, \"message\": \"🏗 Extracting data from ../data/others/observations.csv\", \"params\": null}\n",
      "{\"type\": \"info\", \"time\": 1656406552608, \"message\": \"🏗 Extracting data from ../data/others/patients.csv\", \"params\": null}\n",
      "{\"type\": \"info\", \"time\": 1656406552616, \"message\": \"🏗 Extracting data from ../data/asthma/careplans.csv\", \"params\": null}\n",
      "{\"type\": \"info\", \"time\": 1656406552636, \"message\": \"🏗 Extracting data from ../data/asthma/conditions.csv\", \"params\": null}\n",
      "{\"type\": \"info\", \"time\": 1656406552765, \"message\": \"🏗 Extracting data from ../data/asthma/observations.csv\", \"params\": null}\n",
      "{\"type\": \"info\", \"time\": 1656406555241, \"message\": \"🏗 Extracting data from ../data/asthma/patients.csv\", \"params\": null}\n",
      "{\"type\": \"info\", \"time\": 1656406555258, \"message\": \"🏗 Extracting data from ../data/gallstones/careplans.csv\", \"params\": null}\n",
      "{\"type\": \"info\", \"time\": 1656406555286, \"message\": \"🏗 Extracting data from ../data/gallstones/conditions.csv\", \"params\": null}\n",
      "{\"type\": \"info\", \"time\": 1656406555381, \"message\": \"🏗 Extracting data from ../data/gallstones/observations.csv\", \"params\": null}\n",
      "{\"type\": \"info\", \"time\": 1656406557609, \"message\": \"🏗 Extracting data from ../data/gallstones/patients.csv\", \"params\": null}\n",
      "{\"type\": \"info\", \"time\": 1656406557623, \"message\": \"🏗 Extracting data from ../data/hypertension/careplans.csv\", \"params\": null}\n",
      "{\"type\": \"info\", \"time\": 1656406557644, \"message\": \"🏗 Extracting data from ../data/hypertension/conditions.csv\", \"params\": null}\n",
      "{\"type\": \"info\", \"time\": 1656406557734, \"message\": \"🏗 Extracting data from ../data/hypertension/observations.csv\", \"params\": null}\n",
      "{\"type\": \"info\", \"time\": 1656406560618, \"message\": \"🏗 Extracting data from ../data/hypertension/patients.csv\", \"params\": null}\n"
     ]
    }
   ],
   "source": [
    "logger.startTimeMeasurement('load-data', 'Loading data into db')\n",
    "for file in files:\n",
    "    for table in tables:\n",
    "        extract.insert_values_to_table(logger, connection.cursor(), table, \"../\"+ file + table + \".csv\")  # TODO: insert ALL values in the right tables \n",
    "        connection.commit()\n",
    "    logger.endTimeMeasurement('load-data')"
   ]
  },
  {
   "cell_type": "markdown",
   "metadata": {},
   "source": [
    "## Messung der Datenfehler\n",
    "\n",
    "Für unsere Forschungsfrage sind nur alle Daten mit gemessenen BMI relevant. Wurde dieser nicht vermessen oder eingetragen können die Daten für die Forschungsfrage nicht verwendet werden und sind somit unbrauchbar."
   ]
  },
  {
   "cell_type": "code",
   "execution_count": 8,
   "metadata": {},
   "outputs": [
    {
     "name": "stdout",
     "output_type": "stream",
     "text": [
      "{\"type\": \"info\", \"time\": 1656406561453, \"message\": \"Total num of patients 1326.\", \"params\": null}\n",
      "{\"type\": \"info\", \"time\": 1656406561453, \"message\": \"Found 450 patients (33.900000000000006%) with 3539 BMI-values.\", \"params\": null}\n"
     ]
    }
   ],
   "source": [
    "all_patients_query = \"\"\"\n",
    "SELECT COUNT(id) FROM patients;\"\"\"\n",
    "count_bmi_query = \"\"\"\n",
    "SELECT COUNT(distinct id) FROM patients JOIN observations on patients.id == observations.patient WHERE observations.Code = '59576-9'\"\"\"\n",
    "\n",
    "count_all_bmi_query = f\"\"\"\n",
    "SELECT COUNT(patient) FROM observations WHERE observations.Code = '59576-9'\"\"\"\n",
    "\n",
    "patient_all_count = connection.execute(all_patients_query).fetchall()[0][0]\n",
    "patient_bmi_count = connection.execute(count_bmi_query).fetchall()[0][0]\n",
    "bmi_count = connection.execute(count_all_bmi_query).fetchall()[0][0]\n",
    "ratio = round(patient_bmi_count/patient_all_count, 3) * 100\n",
    "\n",
    "logger.log(f\"Total num of patients {patient_all_count}.\")\n",
    "logger.log(f\"Found {patient_bmi_count} patients ({ratio}%) with {bmi_count} BMI-values.\")"
   ]
  },
  {
   "cell_type": "code",
   "execution_count": 9,
   "metadata": {},
   "outputs": [],
   "source": [
    "import pandas as pd\n",
    "cursor = connection.cursor()"
   ]
  },
  {
   "cell_type": "code",
   "execution_count": 11,
   "metadata": {},
   "outputs": [
    {
     "name": "stdout",
     "output_type": "stream",
     "text": [
      "[('patients',), ('careplans',), ('conditions',), ('observations',)]\n"
     ]
    }
   ],
   "source": [
    "# print tables of the database\n",
    "cursor.execute('SELECT name FROM sqlite_master where type=\"table\"') \n",
    "print(cursor.fetchall())"
   ]
  },
  {
   "cell_type": "markdown",
   "metadata": {},
   "source": [
    "# Star Schema"
   ]
  },
  {
   "cell_type": "markdown",
   "metadata": {},
   "source": [
    "#### Erstellen Dimensionstabellen"
   ]
  },
  {
   "cell_type": "markdown",
   "metadata": {},
   "source": [
    "Tabelle patients_"
   ]
  },
  {
   "cell_type": "code",
   "execution_count": 12,
   "metadata": {},
   "outputs": [
    {
     "name": "stdout",
     "output_type": "stream",
     "text": [
      "   cid       name    type  notnull dflt_value  pk\n",
      "0    0         ID  STRING        0       None   1\n",
      "1    1  BIRTHDATE    DATE        0       None   0\n",
      "2    2       RACE  STRING        0       None   0\n",
      "3    3  ETHNICITY  STRING        0       None   0\n",
      "4    4     GENDER  STRING        0       None   0\n"
     ]
    }
   ],
   "source": [
    "# table patients_\n",
    "cursor.execute('''DROP TABLE IF EXISTS patients_;''')\n",
    "cursor.execute('''\n",
    "        CREATE TABLE patients_ ( \n",
    "        ID STRING PRIMARY KEY UNIQUE,\n",
    "        BIRTHDATE DATE,\n",
    "        RACE STRING, \n",
    "        ETHNICITY STRING,\n",
    "        GENDER STRING\n",
    "        );''')\n",
    "   \n",
    "cursor.execute('INSERT INTO patients_ (ID, BIRTHDATE, RACE, ETHNICITY, GENDER) SELECT ID, BIRTHDATE, RACE, ETHNICITY, GENDER FROM PATIENTS;')\n",
    "\n",
    "print(pd.read_sql_query(\"PRAGMA table_info(patients_)\", connection))"
   ]
  },
  {
   "cell_type": "markdown",
   "metadata": {},
   "source": [
    "Tabelle observations_"
   ]
  },
  {
   "cell_type": "code",
   "execution_count": 13,
   "metadata": {},
   "outputs": [
    {
     "name": "stdout",
     "output_type": "stream",
     "text": [
      "   cid         name    type  notnull dflt_value  pk\n",
      "0    0         CODE  STRING        0       None   1\n",
      "1    1  DESCRIPTION  STRING        0       None   0\n",
      "2    2        UNITS  STRING        0       None   0\n",
      "3    3         TYPE  STRING        0       None   0\n"
     ]
    }
   ],
   "source": [
    "# table observations_\n",
    "cursor.execute('''DROP TABLE IF EXISTS observations_;''')\n",
    "cursor.execute('''\n",
    "        CREATE TABLE observations_ ( \n",
    "        CODE STRING PRIMARY KEY UNIQUE,\n",
    "        DESCRIPTION STRING,\n",
    "        UNITS STRING, \n",
    "        TYPE STRING\n",
    "        );''')\n",
    "\n",
    "# create df observation\n",
    "cursor.execute('''SELECT CODE, DESCRIPTION, UNITS, TYPE FROM OBSERVATIONS;''')\n",
    "df_observations = pd.DataFrame(cursor.fetchall(), columns=['CODE','DESCRIPTION', 'UNITS', 'TYPE'])\n",
    "\n",
    "df_observations = df_observations.drop_duplicates(subset='CODE')\n",
    "\n",
    "# transform dt in table\n",
    "df_observations.to_sql('df_observations', connection, if_exists='replace', index=False)\n",
    "\n",
    "cursor.execute('''INSERT INTO observations_ (CODE, DESCRIPTION, UNITS, TYPE) SELECT CODE, DESCRIPTION, UNITS, TYPE FROM df_observations;''')\n",
    "\n",
    "cursor.execute('''DROP TABLE IF EXISTS df_observations;''')\n",
    "print(pd.read_sql_query(\"PRAGMA table_info(observations_)\", connection))\n",
    "#print(pd.read_sql_query(\"SELECT * FROM observations_\", connection))"
   ]
  },
  {
   "cell_type": "markdown",
   "metadata": {},
   "source": [
    "Tabelle careplans_code"
   ]
  },
  {
   "cell_type": "code",
   "execution_count": 14,
   "metadata": {},
   "outputs": [
    {
     "name": "stdout",
     "output_type": "stream",
     "text": [
      "   cid         name    type  notnull dflt_value  pk\n",
      "0    0         CODE  STRING        0       None   1\n",
      "1    1  DESCRIPTION  STRING        0       None   0\n"
     ]
    }
   ],
   "source": [
    "# table careplans_code\n",
    "cursor.execute('''DROP TABLE IF EXISTS careplans_code;''')\n",
    "cursor.execute('''\n",
    "        CREATE TABLE careplans_code ( \n",
    "        CODE STRING PRIMARY KEY UNIQUE,\n",
    "        DESCRIPTION STRING\n",
    "        );''')\n",
    "\n",
    "# create df careplans_code\n",
    "cursor.execute('''SELECT CODE, DESCRIPTION FROM CAREPLANS;''')\n",
    "df_careplans_code = pd.DataFrame(cursor.fetchall(), columns=['CODE','DESCRIPTION'])\n",
    "\n",
    "df_careplans_code = df_careplans_code.drop_duplicates(subset='CODE')\n",
    "\n",
    "# transform dt in table\n",
    "df_careplans_code.to_sql('df_careplans_code', connection, if_exists='replace', index=False)\n",
    "\n",
    "cursor.execute('''INSERT INTO careplans_code (CODE, DESCRIPTION) SELECT CODE, DESCRIPTION FROM df_careplans_code;''')\n",
    "\n",
    "cursor.execute('''DROP TABLE IF EXISTS df_careplans_code;''')\n",
    "print(pd.read_sql_query(\"PRAGMA table_info(careplans_code)\", connection))\n",
    "#print(pd.read_sql_query(\"SELECT * FROM careplans_code\", connection))"
   ]
  },
  {
   "cell_type": "markdown",
   "metadata": {},
   "source": [
    "Tabelle careplans_reasoncode"
   ]
  },
  {
   "cell_type": "code",
   "execution_count": 15,
   "metadata": {},
   "outputs": [
    {
     "name": "stdout",
     "output_type": "stream",
     "text": [
      "   cid               name    type  notnull dflt_value  pk\n",
      "0    0         REASONCODE  STRING        0       None   1\n",
      "1    1  REASONDESCRIPTION  STRING        0       None   0\n"
     ]
    }
   ],
   "source": [
    "# table careplans_reasoncode\n",
    "cursor.execute('''DROP TABLE IF EXISTS careplans_reasoncode;''')\n",
    "cursor.execute('''\n",
    "        CREATE TABLE careplans_reasoncode ( \n",
    "        REASONCODE STRING PRIMARY KEY UNIQUE,\n",
    "        REASONDESCRIPTION STRING\n",
    "        );''')\n",
    "\n",
    "# create df careplans_code\n",
    "cursor.execute('''SELECT REASONCODE, REASONDESCRIPTION FROM CAREPLANS;''')\n",
    "df_careplans_reasoncode = pd.DataFrame(cursor.fetchall(), columns=['REASONCODE','REASONDESCRIPTION'])\n",
    "\n",
    "df_careplans_reasoncode = df_careplans_reasoncode.drop_duplicates(subset='REASONCODE')\n",
    "\n",
    "# transform dt in table\n",
    "df_careplans_reasoncode.to_sql('df_careplans_reasoncode', connection, if_exists='replace', index=False)\n",
    "   \n",
    "cursor.execute('INSERT INTO careplans_reasoncode (REASONCODE, REASONDESCRIPTION) SELECT REASONCODE, REASONDESCRIPTION FROM df_careplans_reasoncode;')\n",
    "\n",
    "cursor.execute('''DROP TABLE IF EXISTS df_careplans_reasoncode;''')\n",
    "print(pd.read_sql_query(\"PRAGMA table_info(careplans_reasoncode)\", connection))\n",
    "#print(pd.read_sql_query(\"SELECT * FROM careplans_reasoncode\", connection))"
   ]
  },
  {
   "cell_type": "markdown",
   "metadata": {},
   "source": [
    "Tabelle conditions_"
   ]
  },
  {
   "cell_type": "code",
   "execution_count": 16,
   "metadata": {},
   "outputs": [
    {
     "name": "stdout",
     "output_type": "stream",
     "text": [
      "   cid         name    type  notnull dflt_value  pk\n",
      "0    0         CODE  STRING        0       None   1\n",
      "1    1  DESCRIPTION  STRING        0       None   0\n"
     ]
    }
   ],
   "source": [
    "# table conditions\n",
    "cursor.execute('''DROP TABLE IF EXISTS conditions_;''')\n",
    "cursor.execute('''\n",
    "        CREATE TABLE conditions_ ( \n",
    "        CODE STRING PRIMARY KEY UNIQUE,\n",
    "        DESCRIPTION STRING\n",
    "        );''')\n",
    "\n",
    "# create df conditions\n",
    "cursor.execute('''SELECT CODE, DESCRIPTION FROM CONDITIONS;''')\n",
    "df_conditions = pd.DataFrame(cursor.fetchall(), columns=['CODE','DESCRIPTION'])\n",
    "\n",
    "df_conditions = df_conditions.drop_duplicates(subset='CODE')\n",
    "\n",
    "# transform dt in table\n",
    "df_conditions.to_sql('df_conditions', connection, if_exists='replace', index=False)\n",
    "\n",
    "cursor.execute('INSERT INTO conditions_ (CODE, DESCRIPTION) SELECT CODE, DESCRIPTION FROM df_conditions;')\n",
    "\n",
    "cursor.execute('''DROP TABLE IF EXISTS df_conditions;''')\n",
    "print(pd.read_sql_query(\"PRAGMA table_info(conditions_)\", connection))\n",
    "#print(pd.read_sql_query(\"SELECT * FROM conditions_\", connection))"
   ]
  },
  {
   "cell_type": "markdown",
   "metadata": {},
   "source": [
    "#### Erstelle Faktentabelle"
   ]
  },
  {
   "cell_type": "code",
   "execution_count": 17,
   "metadata": {},
   "outputs": [
    {
     "data": {
      "text/plain": [
       "<sqlite3.Cursor at 0x1a600f7af10>"
      ]
     },
     "execution_count": 17,
     "metadata": {},
     "output_type": "execute_result"
    }
   ],
   "source": [
    "cursor.execute('''DROP TABLE IF EXISTS fact_table;''')\n",
    "cursor.execute('''\n",
    "        CREATE TABLE fact_table ( \n",
    "        PATIENT_ID STRING,\n",
    "        OBSERVATION_CODE STRING,\n",
    "        VALUE STRING,\n",
    "        DATE DATE,\n",
    "        CONDITIONS_CODE STRING,\n",
    "        ENDDATE DATE,\n",
    "        CAREPLANS_CODE STRING,\n",
    "        CAREPLANS_REASONCODE STRING,\n",
    "        FOREIGN KEY (PATIENT_ID)\n",
    "            REFERENCES patients_(ID),\n",
    "        FOREIGN KEY (OBSERVATION_CODE)\n",
    "            REFERENCES observations_(CODE),\n",
    "        FOREIGN KEY (CONDITIONS_CODE)\n",
    "            REFERENCES conditions_(CODE),\n",
    "        FOREIGN KEY (CAREPLANS_CODE)\n",
    "            REFERENCES careplans_code(CODE),\n",
    "        FOREIGN KEY (CAREPLANS_REASONCODE)\n",
    "            REFERENCES careplans_reasoncode(REASONCODE)\n",
    "        );''')\n",
    "\n",
    "cursor.execute('''INSERT INTO fact_table        \n",
    "                    (PATIENT_ID, OBSERVATION_CODE, VALUE, DATE) \n",
    "                    SELECT PATIENT, CODE, VALUE, DATE \n",
    "                    FROM OBSERVATIONS\n",
    "                    ;''')\n",
    "\n",
    "cursor.execute('''INSERT INTO fact_table        \n",
    "                    (PATIENT_ID, CAREPLANS_CODE, DATE, ENDDATE) \n",
    "                    SELECT PATIENT, CODE, START, STOP \n",
    "                    FROM CAREPLANS\n",
    "                    ;''')\n",
    "\n",
    "cursor.execute('''INSERT INTO fact_table        \n",
    "                    (PATIENT_ID, CAREPLANS_REASONCODE, DATE, ENDDATE) \n",
    "                    SELECT PATIENT, REASONCODE, START, STOP \n",
    "                    FROM CAREPLANS\n",
    "                    ;''')\n",
    "\n",
    "cursor.execute('''INSERT INTO fact_table        \n",
    "                    (PATIENT_ID, CONDITIONS_CODE, DATE, ENDDATE) \n",
    "                    SELECT PATIENT, CODE, START, STOP \n",
    "                    FROM CONDITIONS\n",
    "                    ;''')"
   ]
  },
  {
   "cell_type": "code",
   "execution_count": 18,
   "metadata": {},
   "outputs": [
    {
     "name": "stdout",
     "output_type": "stream",
     "text": [
      "   id  seq                 table                  from          to  on_update  \\\n",
      "0   0    0  careplans_reasoncode  CAREPLANS_REASONCODE  REASONCODE  NO ACTION   \n",
      "1   1    0        careplans_code        CAREPLANS_CODE        CODE  NO ACTION   \n",
      "2   2    0           conditions_       CONDITIONS_CODE        CODE  NO ACTION   \n",
      "3   3    0         observations_      OBSERVATION_CODE        CODE  NO ACTION   \n",
      "4   4    0             patients_            PATIENT_ID          ID  NO ACTION   \n",
      "\n",
      "   on_delete match  \n",
      "0  NO ACTION  NONE  \n",
      "1  NO ACTION  NONE  \n",
      "2  NO ACTION  NONE  \n",
      "3  NO ACTION  NONE  \n",
      "4  NO ACTION  NONE  \n"
     ]
    }
   ],
   "source": [
    "print(pd.read_sql_query(\"PRAGMA foreign_key_list(fact_table)\", connection))"
   ]
  },
  {
   "cell_type": "code",
   "execution_count": 19,
   "metadata": {},
   "outputs": [
    {
     "name": "stdout",
     "output_type": "stream",
     "text": [
      "[('patients',), ('careplans',), ('conditions',), ('observations',), ('patients_',), ('observations_',), ('careplans_code',), ('careplans_reasoncode',), ('conditions_',), ('fact_table',)]\n"
     ]
    }
   ],
   "source": [
    "cursor.execute('SELECT name FROM sqlite_master where type=\"table\"')\n",
    "print(cursor.fetchall())"
   ]
  },
  {
   "cell_type": "markdown",
   "metadata": {},
   "source": [
    "## Analysis"
   ]
  },
  {
   "cell_type": "code",
   "execution_count": 20,
   "metadata": {},
   "outputs": [
    {
     "name": "stdout",
     "output_type": "stream",
     "text": [
      "   REASONCODE\n",
      "0    44054006\n"
     ]
    }
   ],
   "source": [
    "print(pd.read_sql_query(\"SELECT reasoncode FROM careplans_reasoncode WHERE reasondescription='Diabetes'\", connection))"
   ]
  },
  {
   "cell_type": "code",
   "execution_count": 21,
   "metadata": {},
   "outputs": [
    {
     "name": "stdout",
     "output_type": "stream",
     "text": [
      "                               PATIENT_ID\n",
      "0    dea160e9-e636-5716-bb5a-260a9a338fea\n",
      "1    44428a2f-14c3-8077-f48b-bae301cc7734\n",
      "2    0ec97729-9fe5-f6be-6a05-2a3d30f705a1\n",
      "3    14e0d9b0-b5fb-6f3f-7f2f-3170f42e6dc9\n",
      "4    7071fb3c-05a8-260f-31fe-d2691b9b0d47\n",
      "..                                    ...\n",
      "468  7805af3c-2d62-ec81-ae34-db3b7c7a2b8c\n",
      "469  16e3dc05-c239-4e63-ea9f-3df0427dcdd9\n",
      "470  24cf50a2-1e8f-4936-a025-5024bb2fd7fe\n",
      "471  d98c4299-a3f0-337b-c143-7866dbca6309\n",
      "472  b1f4c342-6e1a-d0ea-f402-9395e395e158\n",
      "\n",
      "[473 rows x 1 columns]\n"
     ]
    }
   ],
   "source": [
    "print(pd.read_sql_query('''SELECT fact_table.patient_ID\n",
    "                        FROM fact_table\n",
    "                        WHERE careplans_reasoncode=\n",
    "                        (SELECT reasoncode FROM careplans_reasoncode WHERE reasondescription='Diabetes' OR reasondescription='Prediabetes')\n",
    "                        ''', connection))"
   ]
  },
  {
   "cell_type": "markdown",
   "metadata": {},
   "source": [
    "## Aufräumen & Logs speichern"
   ]
  },
  {
   "cell_type": "code",
   "execution_count": 22,
   "metadata": {},
   "outputs": [],
   "source": [
    "connection.close()\n",
    "#logger.logTimings()\n",
    "#logger.writeToFile(\"../artefacts-for-release/analysis-log.json\")"
   ]
  }
 ],
 "metadata": {
  "kernelspec": {
   "display_name": "Python 3.9.12 ('base')",
   "language": "python",
   "name": "python3"
  },
  "language_info": {
   "codemirror_mode": {
    "name": "ipython",
    "version": 3
   },
   "file_extension": ".py",
   "mimetype": "text/x-python",
   "name": "python",
   "nbconvert_exporter": "python",
   "pygments_lexer": "ipython3",
   "version": "3.9.12"
  },
  "orig_nbformat": 4,
  "vscode": {
   "interpreter": {
    "hash": "ad2bdc8ecc057115af97d19610ffacc2b4e99fae6737bb82f5d7fb13d2f2c186"
   }
  }
 },
 "nbformat": 4,
 "nbformat_minor": 2
}
