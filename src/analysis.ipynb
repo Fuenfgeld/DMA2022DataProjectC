{
 "cells": [
  {
   "cell_type": "markdown",
   "metadata": {},
   "source": [
    "# Analysis"
   ]
  },
  {
   "cell_type": "code",
   "execution_count": 1,
   "metadata": {},
   "outputs": [],
   "source": [
    "%reset -f"
   ]
  },
  {
   "cell_type": "markdown",
   "metadata": {},
   "source": [
    "# Genutzte Umgebung"
   ]
  },
  {
   "cell_type": "code",
   "execution_count": 2,
   "metadata": {},
   "outputs": [
    {
     "name": "stdout",
     "output_type": "stream",
     "text": [
      "{\"type\": \"info\", \"time\": 1657532187985, \"message\": \"system is installed with version sys.version_info(major=3, minor=8, micro=10, releaselevel='final', serial=0)\", \"params\": null}\n",
      "{\"type\": \"info\", \"time\": 1657532187985, \"message\": \"pandas is installed with version 1.4.3\", \"params\": null}\n",
      "{\"type\": \"info\", \"time\": 1657532187985, \"message\": \"numpy is installed with version 1.23.0\", \"params\": null}\n"
     ]
    }
   ],
   "source": [
    "import pandas as pd\n",
    "from logger import Logger\n",
    "from test_executer import TestExecutor\n",
    "import extract\n",
    "import sys\n",
    "import numpy as np\n",
    "\n",
    "logger = Logger()\n",
    "testExecutor = TestExecutor(logger)\n",
    "\n",
    "dependencies = [\n",
    "    ('system', sys.version_info),\n",
    "    ('pandas', pd.__version__),\n",
    "    ('numpy', np.__version__),\n",
    "]\n",
    "for dependency in dependencies:\n",
    "    logger.log(f\"{dependency[0]} is installed with version {dependency[1]}\")"
   ]
  },
  {
   "cell_type": "markdown",
   "metadata": {},
   "source": [
    "## Setup der Daten\n",
    "\n",
    "Zuerst laden wir die benötigten Daten herunter und initialisieren die genutzten Python Objekte."
   ]
  },
  {
   "cell_type": "code",
   "execution_count": 3,
   "metadata": {},
   "outputs": [],
   "source": [
    "tables = [\n",
    "    \"careplans\",\n",
    "    \"conditions\",\n",
    "    \"observations\",\n",
    "    \"patients\",\n",
    "]\n",
    "\n",
    "files = [\n",
    "    \"data/others/\",\n",
    "    \"data/asthma/\",\n",
    "    \"data/gallstones/\",\n",
    "    \"data/hypertension/\",\n",
    "]"
   ]
  },
  {
   "cell_type": "code",
   "execution_count": 4,
   "metadata": {},
   "outputs": [],
   "source": [
    "!mkdir -p data/allergy"
   ]
  },
  {
   "cell_type": "code",
   "execution_count": 5,
   "metadata": {},
   "outputs": [
    {
     "name": "stdout",
     "output_type": "stream",
     "text": [
      "{\"type\": \"info\", \"time\": 1657532188213, \"message\": \"File data/others/careplans.csv already exists, skipping download\", \"params\": null}\n",
      "{\"type\": \"info\", \"time\": 1657532188213, \"message\": \"File data/others/conditions.csv already exists, skipping download\", \"params\": null}\n",
      "{\"type\": \"info\", \"time\": 1657532188213, \"message\": \"File data/others/observations.csv already exists, skipping download\", \"params\": null}\n",
      "{\"type\": \"info\", \"time\": 1657532188213, \"message\": \"File data/others/patients.csv already exists, skipping download\", \"params\": null}\n",
      "{\"type\": \"info\", \"time\": 1657532188213, \"message\": \"File data/asthma/careplans.csv already exists, skipping download\", \"params\": null}\n",
      "{\"type\": \"info\", \"time\": 1657532188213, \"message\": \"File data/asthma/conditions.csv already exists, skipping download\", \"params\": null}\n",
      "{\"type\": \"info\", \"time\": 1657532188213, \"message\": \"File data/asthma/observations.csv already exists, skipping download\", \"params\": null}\n",
      "{\"type\": \"info\", \"time\": 1657532188213, \"message\": \"File data/asthma/patients.csv already exists, skipping download\", \"params\": null}\n",
      "{\"type\": \"info\", \"time\": 1657532188213, \"message\": \"File data/gallstones/careplans.csv already exists, skipping download\", \"params\": null}\n",
      "{\"type\": \"info\", \"time\": 1657532188214, \"message\": \"File data/gallstones/conditions.csv already exists, skipping download\", \"params\": null}\n",
      "{\"type\": \"info\", \"time\": 1657532188214, \"message\": \"File data/gallstones/observations.csv already exists, skipping download\", \"params\": null}\n",
      "{\"type\": \"info\", \"time\": 1657532188214, \"message\": \"File data/gallstones/patients.csv already exists, skipping download\", \"params\": null}\n",
      "{\"type\": \"info\", \"time\": 1657532188214, \"message\": \"File data/hypertension/careplans.csv already exists, skipping download\", \"params\": null}\n",
      "{\"type\": \"info\", \"time\": 1657532188214, \"message\": \"File data/hypertension/conditions.csv already exists, skipping download\", \"params\": null}\n",
      "{\"type\": \"info\", \"time\": 1657532188214, \"message\": \"File data/hypertension/observations.csv already exists, skipping download\", \"params\": null}\n",
      "{\"type\": \"info\", \"time\": 1657532188214, \"message\": \"File data/hypertension/patients.csv already exists, skipping download\", \"params\": null}\n"
     ]
    }
   ],
   "source": [
    "from urllib.request import urlopen\n",
    "import os\n",
    "\n",
    "def ensure_file_has_been_downloaded(filename):\n",
    "    full_filename = \"../\" + filename\n",
    "\n",
    "    url = \"https://raw.githubusercontent.com/Fuenfgeld/DMA2022DataProjectC/main/\" + filename\n",
    "    if os.path.isfile(full_filename):\n",
    "        logger.log(\"File {} already exists, skipping download\".format(filename))\n",
    "    else:\n",
    "        logger.log(\"Downloading {}\".format(filename))\n",
    "        download_file(url, full_filename)\n",
    "\n",
    "def download_file(url, filename):\n",
    "    with open(filename, 'wb') as out_file:\n",
    "        with urlopen(url) as file:\n",
    "            out_file.write(file.read())\n",
    "\n",
    "if not os.path.isfile(\"extract.py\"):\n",
    "    download_file(\n",
    "        \"https://raw.githubusercontent.com/Fuenfgeld/DMA2022DataProjectC/main/src/extract.py\",\n",
    "        \"extract.py\"\n",
    "    )\n",
    "\n",
    "for file in files:\n",
    "    for table in tables:\n",
    "        ensure_file_has_been_downloaded(file+table+\".csv\")"
   ]
  },
  {
   "cell_type": "markdown",
   "metadata": {},
   "source": [
    "## Mit Datenbank verbinden"
   ]
  },
  {
   "cell_type": "code",
   "execution_count": 6,
   "metadata": {},
   "outputs": [],
   "source": [
    "databaseFile = \"data.sqlite\"\n",
    "\n",
    "logger.startTimeMeasurement('open-db', 'Connected to db and created tables')\n",
    "connection = extract.connect_to_db(logger, databaseFile)  # create table patients, observations, conditions, careplans\n",
    "logger.endTimeMeasurement('open-db')"
   ]
  },
  {
   "cell_type": "code",
   "execution_count": 7,
   "metadata": {},
   "outputs": [
    {
     "name": "stdout",
     "output_type": "stream",
     "text": [
      "{\"type\": \"info\", \"time\": 1657532188288, \"message\": \"✅ Test ran successfully: Test connection to database\", \"params\": null}\n"
     ]
    }
   ],
   "source": [
    "def test_sqliteConnection(_logger):\n",
    "    cursor = connection.cursor()\n",
    "    cursor.execute(\"SELECT name FROM sqlite_master WHERE type='table'\")\n",
    "    tablesInDb = list(map(lambda tableResult: tableResult[0], cursor.fetchall()))\n",
    "    tablesInDb.sort()\n",
    "\n",
    "    for table in tables:\n",
    "        if not(table in tablesInDb):\n",
    "            raise Exception('Table not found:', table)\n",
    "\n",
    "testExecutor.execute('Test connection to database', test_sqliteConnection)"
   ]
  },
  {
   "cell_type": "markdown",
   "metadata": {},
   "source": [
    "## Daten in Datenbank laden\n",
    "\n",
    "Lade der verwendete Daten in die Datenbank:\n",
    "\n",
    "-   careplans\n",
    "-   conditions\n",
    "-   observations\n",
    "-   patients"
   ]
  },
  {
   "cell_type": "code",
   "execution_count": 8,
   "metadata": {},
   "outputs": [
    {
     "name": "stdout",
     "output_type": "stream",
     "text": [
      "{\"type\": \"info\", \"time\": 1657532188317, \"message\": \"🏗 Extracting data from ../data/others/careplans.csv\", \"params\": null}\n",
      "{\"type\": \"info\", \"time\": 1657532188321, \"message\": \"🏗 Extracting data from ../data/others/conditions.csv\", \"params\": null}\n",
      "{\"type\": \"info\", \"time\": 1657532188343, \"message\": \"🏗 Extracting data from ../data/others/observations.csv\", \"params\": null}\n",
      "{\"type\": \"info\", \"time\": 1657532188701, \"message\": \"🏗 Extracting data from ../data/others/patients.csv\", \"params\": null}\n",
      "{\"type\": \"info\", \"time\": 1657532188706, \"message\": \"🏗 Extracting data from ../data/asthma/careplans.csv\", \"params\": null}\n",
      "{\"type\": \"info\", \"time\": 1657532188718, \"message\": \"🏗 Extracting data from ../data/asthma/conditions.csv\", \"params\": null}\n",
      "{\"type\": \"info\", \"time\": 1657532188757, \"message\": \"🏗 Extracting data from ../data/asthma/observations.csv\", \"params\": null}\n",
      "{\"type\": \"info\", \"time\": 1657532189850, \"message\": \"🏗 Extracting data from ../data/asthma/patients.csv\", \"params\": null}\n",
      "{\"type\": \"info\", \"time\": 1657532189859, \"message\": \"🏗 Extracting data from ../data/gallstones/careplans.csv\", \"params\": null}\n",
      "{\"type\": \"info\", \"time\": 1657532189869, \"message\": \"🏗 Extracting data from ../data/gallstones/conditions.csv\", \"params\": null}\n",
      "{\"type\": \"info\", \"time\": 1657532189906, \"message\": \"🏗 Extracting data from ../data/gallstones/observations.csv\", \"params\": null}\n",
      "{\"type\": \"info\", \"time\": 1657532190790, \"message\": \"🏗 Extracting data from ../data/gallstones/patients.csv\", \"params\": null}\n",
      "{\"type\": \"info\", \"time\": 1657532190796, \"message\": \"🏗 Extracting data from ../data/hypertension/careplans.csv\", \"params\": null}\n",
      "{\"type\": \"info\", \"time\": 1657532190810, \"message\": \"🏗 Extracting data from ../data/hypertension/conditions.csv\", \"params\": null}\n",
      "{\"type\": \"info\", \"time\": 1657532190890, \"message\": \"🏗 Extracting data from ../data/hypertension/observations.csv\", \"params\": null}\n",
      "{\"type\": \"info\", \"time\": 1657532191916, \"message\": \"🏗 Extracting data from ../data/hypertension/patients.csv\", \"params\": null}\n"
     ]
    }
   ],
   "source": [
    "logger.startTimeMeasurement('load-data', 'Loading data into db')\n",
    "for file in files:\n",
    "    for table in tables:\n",
    "        extract.insert_values_to_table(logger, connection.cursor(), table, \"../\"+ file + table + \".csv\")  # TODO: insert ALL values in the right tables \n",
    "        connection.commit()\n",
    "\n",
    "logger.endTimeMeasurement('load-data')"
   ]
  },
  {
   "cell_type": "markdown",
   "metadata": {},
   "source": [
    "## Messung der Datenfehler\n",
    "\n",
    "Für unsere Forschungsfrage sind nur alle Daten mit gemessenen BMI relevant. Wurde dieser nicht vermessen oder eingetragen können die Daten für die Forschungsfrage nicht verwendet werden und sind somit unbrauchbar."
   ]
  },
  {
   "cell_type": "markdown",
   "metadata": {},
   "source": [
    "### NULL-Values\n",
    "\n",
    "Die Rohdaten werden zuvor auf die Anzahl an NULL-Values überprüft. Weisen mehr als **ein drittel der Daten**   Lücken in der Codierung auf, wird ein Fehler in der Verfassung angenommen und die Daten müssen manuell Überprüft werden."
   ]
  },
  {
   "cell_type": "code",
   "execution_count": 9,
   "metadata": {},
   "outputs": [
    {
     "name": "stdout",
     "output_type": "stream",
     "text": [
      "{\"type\": \"info\", \"time\": 1657532191964, \"message\": \"Found Id                   0 NULL-Values in Column START                0 NULL-Values in Column STOP                 0 NULL-Values in Column PATIENT              0 NULL-Values in Column ENCOUNTER            0 NULL-Values in Column CODE                 0 NULL-Values in Column DESCRIPTION          0 NULL-Values in Column REASONCODE           0 NULL-Values in Column REASONDESCRIPTION    0 NULL-Values in Column dtype: int64 null-values in careplans.\", \"params\": null}\n",
      "{\"type\": \"info\", \"time\": 1657532192035, \"message\": \"Found START          0 NULL-Values in Column STOP           0 NULL-Values in Column PATIENT        0 NULL-Values in Column ENCOUNTER      0 NULL-Values in Column CODE           0 NULL-Values in Column DESCRIPTION    0 NULL-Values in Column dtype: int64 null-values in conditions.\", \"params\": null}\n",
      "{\"type\": \"info\", \"time\": 1657532193734, \"message\": \"Found DATE                0 NULL-Values in Column PATIENT             0 NULL-Values in Column ENCOUNTER           0 NULL-Values in Column OBSERVATION_TYPE    0 NULL-Values in Column CODE                0 NULL-Values in Column DESCRIPTION         0 NULL-Values in Column VALUE               0 NULL-Values in Column UNITS               0 NULL-Values in Column TYPE                0 NULL-Values in Column dtype: int64 null-values in observations.\", \"params\": null}\n",
      "{\"type\": \"info\", \"time\": 1657532194498, \"message\": \"Found Id                     0 NULL-Values in Column BIRTHDATE              0 NULL-Values in Column DEATHDATE              0 NULL-Values in Column SSN                    0 NULL-Values in Column DRIVERS                0 NULL-Values in Column PASSPORT               0 NULL-Values in Column PREFIX                 0 NULL-Values in Column FIRST                  0 NULL-Values in Column LAST                   0 NULL-Values in Column SUFFIX                 0 NULL-Values in Column MAIDEN                 0 NULL-Values in Column MARITAL                0 NULL-Values in Column RACE                   0 NULL-Values in Column ETHNICITY              0 NULL-Values in Column GENDER                 0 NULL-Values in Column BIRTHPLACE             0 NULL-Values in Column ADDRESS                0 NULL-Values in Column CITY                   0 NULL-Values in Column STATE                  0 NULL-Values in Column COUNTRY                0 NULL-Values in Column ZIP                    0 NULL-Values in Column LAT                    0 NULL-Values in Column LON                    0 NULL-Values in Column HEALTHCARE_EXPENSES    0 NULL-Values in Column HEALTHCARE_COVERAGE    0 NULL-Values in Column dtype: int64 null-values in patients.\", \"params\": null}\n",
      "{\"type\": \"info\", \"time\": 1657532194501, \"message\": \"Found 0.0 null-values.\", \"params\": null}\n"
     ]
    }
   ],
   "source": [
    "null_counter = 0\n",
    "num_of_elements = 0\n",
    "for table in tables:\n",
    "    querie = f\"SELECT * from {table};\"\n",
    "    df = pd.read_sql_query(querie,connection)\n",
    "    result_string = str(df.isna().sum()).replace(\"\\n\",\" NULL-Values in Column \")\n",
    "    logger.log(f\"Found {result_string} null-values in {table}.\")\n",
    "    null_counter = df.isna().sum().sum() + null_counter\n",
    "    num_of_elements = num_of_elements + df.size\n",
    "perc_null_val = round(null_counter / num_of_elements,3)\n",
    "\n",
    "if perc_null_val > 0.33:\n",
    "    logger.log(f\"Found {perc_null_val} null-values.\",type='Warning')\n",
    "else:\n",
    "    logger.log(f\"Found {perc_null_val} null-values.\")"
   ]
  },
  {
   "cell_type": "markdown",
   "metadata": {},
   "source": [
    "### Prüfung auf Duplikate\n",
    "\n",
    "Duplikate verfälschen die  Ergebnisse des Anlyseteil durch Steigerung der Grundgesamheit mit gleichen Werten. Somit müssen die Daten auf Duplikate in den einzelnen Files überprüft werden, um gleiche Messungen zu finden und gegebenfalls im ETL-Process zu entfernen.\n"
   ]
  },
  {
   "cell_type": "code",
   "execution_count": 10,
   "metadata": {},
   "outputs": [
    {
     "name": "stdout",
     "output_type": "stream",
     "text": [
      "{\"type\": \"info\", \"time\": 1657532194551, \"message\": \"Found 0 duplicate-values in careplans.\", \"params\": null}\n",
      "{\"type\": \"info\", \"time\": 1657532194663, \"message\": \"Found 0 duplicate-values in conditions.\", \"params\": null}\n",
      "{\"type\": \"info\", \"time\": 1657532196824, \"message\": \"Found 20608 duplicate-values in observations.\", \"params\": null}\n",
      "{\"type\": \"info\", \"time\": 1657532196989, \"message\": \"Found 0 duplicate-values in patients.\", \"params\": null}\n",
      "{\"type\": \"info\", \"time\": 1657532196989, \"message\": \"Found 0.003 duplicate-values.\", \"params\": null}\n"
     ]
    }
   ],
   "source": [
    "num_of_duplicates = 0\n",
    "num_of_elements = 0\n",
    "for table in tables:\n",
    "    querie = f\"SELECT * from {table};\"\n",
    "    df = pd.read_sql_query(querie,connection)\n",
    "    duplicates = df.groupby(df.columns.tolist()).size().reset_index().\\\n",
    "    rename(columns={0:'records'})\n",
    "    curr_num_duplicate = (duplicates.records -1).sum() \n",
    "    num_of_duplicates = num_of_duplicates + curr_num_duplicate\n",
    "    logger.log(f\"Found {curr_num_duplicate} duplicate-values in {table}.\")\n",
    "    num_of_elements = num_of_elements + df.size\n",
    "perc_duplicates = round(num_of_duplicates / num_of_elements,3)\n",
    "logger.log(f\"Found {perc_duplicates} duplicate-values.\")"
   ]
  },
  {
   "cell_type": "markdown",
   "metadata": {},
   "source": [
    "### Prozentuales Anzahl von Gewichts und BMI Werten für Patieten\n",
    "\n",
    "Für unsere Forschungsfrage sind BMI-Werte relevant und müssen für den Patienten mindestes einmal codiert worden sein. Um die Forschungsfrage mit den zur vorliegenden Daten zu beanworten, sollten auch hier mindestens **ein drittel der Daten** mit einen BMI Codiert worden sein.\n"
   ]
  },
  {
   "cell_type": "code",
   "execution_count": 11,
   "metadata": {},
   "outputs": [
    {
     "name": "stdout",
     "output_type": "stream",
     "text": [
      "{\"type\": \"info\", \"time\": 1657532197137, \"message\": \"Total num of patients 1326.\", \"params\": null}\n",
      "{\"type\": \"info\", \"time\": 1657532197137, \"message\": \"Found 450 patients (33.9%) with 3539 BMI-values.\", \"params\": null}\n"
     ]
    }
   ],
   "source": [
    "all_patients_query = \"\"\"\n",
    "SELECT COUNT(id) FROM patients;\"\"\"\n",
    "count_bmi_query = \"\"\"\n",
    "SELECT COUNT(distinct id) FROM patients JOIN observations on patients.id == observations.patient WHERE observations.Code = '59576-9'\"\"\"\n",
    "\n",
    "count_all_bmi_query = f\"\"\"\n",
    "SELECT COUNT(patient) FROM observations WHERE observations.Code = '59576-9'\"\"\"\n",
    "\n",
    "patient_all_count = connection.execute(all_patients_query).fetchall()[0][0]\n",
    "patient_bmi_count = connection.execute(count_bmi_query).fetchall()[0][0]\n",
    "bmi_count = connection.execute(count_all_bmi_query).fetchall()[0][0]\n",
    "ratio = round(patient_bmi_count/patient_all_count, 3) \n",
    "\n",
    "logger.log(f\"Total num of patients {patient_all_count}.\")\n",
    "\n",
    "if ratio > 0.33:\n",
    "    logger.log(f\"Found {patient_bmi_count} patients ({round(ratio*100,3)}%) with {bmi_count} BMI-values.\")\n",
    "else:\n",
    "    logger.log(f\"Found {patient_bmi_count} patients ({round(ratio*100,3)}%) with {bmi_count} BMI-values.\")\n"
   ]
  },
  {
   "cell_type": "markdown",
   "metadata": {},
   "source": [
    "# Star Schema"
   ]
  },
  {
   "cell_type": "code",
   "execution_count": 12,
   "metadata": {},
   "outputs": [],
   "source": [
    "cursor = connection.cursor()"
   ]
  },
  {
   "cell_type": "markdown",
   "metadata": {},
   "source": [
    "#### Erstellen Dimensionstabellen"
   ]
  },
  {
   "cell_type": "markdown",
   "metadata": {},
   "source": [
    "Tabelle patients_"
   ]
  },
  {
   "cell_type": "code",
   "execution_count": 13,
   "metadata": {},
   "outputs": [
    {
     "data": {
      "text/plain": [
       "<sqlite3.Cursor at 0x7f70c97a3810>"
      ]
     },
     "execution_count": 13,
     "metadata": {},
     "output_type": "execute_result"
    }
   ],
   "source": [
    "# table patients_\n",
    "cursor.execute('''DROP TABLE IF EXISTS patients_;''')\n",
    "cursor.execute('''\n",
    "        CREATE TABLE patients_ ( \n",
    "        ID STRING PRIMARY KEY UNIQUE,\n",
    "        RACE STRING, \n",
    "        ETHNICITY STRING,\n",
    "        GENDER STRING,\n",
    "        AGE INT64\n",
    "        );''')"
   ]
  },
  {
   "cell_type": "code",
   "execution_count": 14,
   "metadata": {},
   "outputs": [],
   "source": [
    "# create df patients\n",
    "cursor.execute('''SELECT ID, BIRTHDATE, DEATHDATE, RACE, ETHNICITY, GENDER FROM PATIENTS;''')\n",
    "df_patients = pd.DataFrame(cursor.fetchall(), columns=['ID', 'BIRTHDATE', 'DEATHDATE', 'RACE', 'ETHNICITY', 'GENDER'])"
   ]
  },
  {
   "cell_type": "code",
   "execution_count": 15,
   "metadata": {},
   "outputs": [],
   "source": [
    "# convert to date\n",
    "df_patients[\"DEATHDATE\"] = pd.to_datetime(df_patients[\"DEATHDATE\"])\n",
    "df_patients[\"BIRTHDATE\"] = pd.to_datetime(df_patients[\"BIRTHDATE\"])\n",
    "# fill null values withh todays date\n",
    "df_patients['DEATHDATE'] = df_patients.DEATHDATE.fillna(pd.to_datetime(\"today\"))\n",
    "# calculate age\n",
    "df_patients[\"AGE\"] = df_patients.DEATHDATE.dt.year - df_patients.BIRTHDATE.dt.year\n",
    "# drop unnecessary variables\n",
    "df_patients = df_patients.drop(['BIRTHDATE', 'DEATHDATE'], axis=1)"
   ]
  },
  {
   "cell_type": "code",
   "execution_count": 16,
   "metadata": {},
   "outputs": [
    {
     "name": "stdout",
     "output_type": "stream",
     "text": [
      "<class 'pandas.core.frame.DataFrame'>\n",
      "RangeIndex: 1326 entries, 0 to 1325\n",
      "Data columns (total 5 columns):\n",
      " #   Column     Non-Null Count  Dtype \n",
      "---  ------     --------------  ----- \n",
      " 0   ID         1326 non-null   object\n",
      " 1   RACE       1326 non-null   object\n",
      " 2   ETHNICITY  1326 non-null   object\n",
      " 3   GENDER     1326 non-null   object\n",
      " 4   AGE        1326 non-null   int64 \n",
      "dtypes: int64(1), object(4)\n",
      "memory usage: 51.9+ KB\n"
     ]
    }
   ],
   "source": [
    "df_patients.info()"
   ]
  },
  {
   "cell_type": "code",
   "execution_count": 17,
   "metadata": {},
   "outputs": [
    {
     "name": "stdout",
     "output_type": "stream",
     "text": [
      "Number of Duplicated Rows 0\n"
     ]
    }
   ],
   "source": [
    "print(\"Number of Duplicated Rows\", df_patients.duplicated(df_patients.columns).sum())"
   ]
  },
  {
   "cell_type": "code",
   "execution_count": 18,
   "metadata": {},
   "outputs": [
    {
     "name": "stdout",
     "output_type": "stream",
     "text": [
      "   cid       name    type  notnull dflt_value  pk\n",
      "0    0         ID  STRING        0       None   1\n",
      "1    1       RACE  STRING        0       None   0\n",
      "2    2  ETHNICITY  STRING        0       None   0\n",
      "3    3     GENDER  STRING        0       None   0\n",
      "4    4        AGE   INT64        0       None   0\n"
     ]
    }
   ],
   "source": [
    "df_patients.to_sql('df_patients', connection, if_exists='replace', index=False)\n",
    "cursor.execute('INSERT INTO patients_ (ID, RACE, ETHNICITY, GENDER, AGE) SELECT ID, RACE, ETHNICITY, GENDER, RACE FROM df_patients;')\n",
    "cursor.execute('''DROP TABLE IF EXISTS df_patients;''')\n",
    "\n",
    "print(pd.read_sql_query(\"PRAGMA table_info(patients_)\", connection))"
   ]
  },
  {
   "cell_type": "markdown",
   "metadata": {},
   "source": [
    "Tabelle observations_"
   ]
  },
  {
   "cell_type": "code",
   "execution_count": 19,
   "metadata": {},
   "outputs": [
    {
     "name": "stdout",
     "output_type": "stream",
     "text": [
      "   cid         name    type  notnull dflt_value  pk\n",
      "0    0         CODE  STRING        0       None   1\n",
      "1    1  DESCRIPTION  STRING        0       None   0\n",
      "2    2        UNITS  STRING        0       None   0\n",
      "3    3         TYPE  STRING        0       None   0\n"
     ]
    }
   ],
   "source": [
    "# table observations_\n",
    "cursor.execute('''DROP TABLE IF EXISTS observations_;''')\n",
    "cursor.execute('''\n",
    "        CREATE TABLE observations_ ( \n",
    "        CODE STRING PRIMARY KEY UNIQUE,\n",
    "        DESCRIPTION STRING,\n",
    "        UNITS STRING, \n",
    "        TYPE STRING\n",
    "        );''')\n",
    "\n",
    "# create df observation\n",
    "cursor.execute('''SELECT CODE, DESCRIPTION, UNITS, TYPE FROM OBSERVATIONS;''')\n",
    "df_observations = pd.DataFrame(cursor.fetchall(), columns=['CODE','DESCRIPTION', 'UNITS', 'TYPE'])\n",
    "\n",
    "df_observations = df_observations.drop_duplicates(subset='CODE')\n",
    "\n",
    "# transform dt in table\n",
    "df_observations.to_sql('df_observations', connection, if_exists='replace', index=False)\n",
    "\n",
    "cursor.execute('''INSERT INTO observations_ (CODE, DESCRIPTION, UNITS, TYPE) SELECT CODE, DESCRIPTION, UNITS, TYPE FROM df_observations;''')\n",
    "\n",
    "cursor.execute('''DROP TABLE IF EXISTS df_observations;''')\n",
    "print(pd.read_sql_query(\"PRAGMA table_info(observations_)\", connection))\n",
    "#print(pd.read_sql_query(\"SELECT * FROM observations_\", connection))"
   ]
  },
  {
   "cell_type": "markdown",
   "metadata": {},
   "source": [
    "Tabelle careplans_code"
   ]
  },
  {
   "cell_type": "code",
   "execution_count": 20,
   "metadata": {},
   "outputs": [
    {
     "name": "stdout",
     "output_type": "stream",
     "text": [
      "   cid         name    type  notnull dflt_value  pk\n",
      "0    0         CODE  STRING        0       None   1\n",
      "1    1  DESCRIPTION  STRING        0       None   0\n"
     ]
    }
   ],
   "source": [
    "# table careplans_code\n",
    "cursor.execute('''DROP TABLE IF EXISTS careplans_code;''')\n",
    "cursor.execute('''\n",
    "        CREATE TABLE careplans_code ( \n",
    "        CODE STRING PRIMARY KEY UNIQUE,\n",
    "        DESCRIPTION STRING\n",
    "        );''')\n",
    "\n",
    "# create df careplans_code\n",
    "cursor.execute('''SELECT CODE, DESCRIPTION FROM CAREPLANS;''')\n",
    "df_careplans_code = pd.DataFrame(cursor.fetchall(), columns=['CODE','DESCRIPTION'])\n",
    "\n",
    "df_careplans_code = df_careplans_code.drop_duplicates(subset='CODE')\n",
    "\n",
    "# transform dt in table\n",
    "df_careplans_code.to_sql('df_careplans_code', connection, if_exists='replace', index=False)\n",
    "\n",
    "cursor.execute('''INSERT INTO careplans_code (CODE, DESCRIPTION) SELECT CODE, DESCRIPTION FROM df_careplans_code;''')\n",
    "\n",
    "cursor.execute('''DROP TABLE IF EXISTS df_careplans_code;''')\n",
    "print(pd.read_sql_query(\"PRAGMA table_info(careplans_code)\", connection))\n",
    "#print(pd.read_sql_query(\"SELECT * FROM careplans_code\", connection))"
   ]
  },
  {
   "cell_type": "markdown",
   "metadata": {},
   "source": [
    "Tabelle careplans_reasoncode"
   ]
  },
  {
   "cell_type": "code",
   "execution_count": 21,
   "metadata": {},
   "outputs": [
    {
     "name": "stdout",
     "output_type": "stream",
     "text": [
      "   cid               name    type  notnull dflt_value  pk\n",
      "0    0         REASONCODE  STRING        0       None   1\n",
      "1    1  REASONDESCRIPTION  STRING        0       None   0\n"
     ]
    }
   ],
   "source": [
    "# table careplans_reasoncode\n",
    "cursor.execute('''DROP TABLE IF EXISTS careplans_reasoncode;''')\n",
    "cursor.execute('''\n",
    "        CREATE TABLE careplans_reasoncode ( \n",
    "        REASONCODE STRING PRIMARY KEY UNIQUE,\n",
    "        REASONDESCRIPTION STRING\n",
    "        );''')\n",
    "\n",
    "# create df careplans_code\n",
    "cursor.execute('''SELECT REASONCODE, REASONDESCRIPTION FROM CAREPLANS;''')\n",
    "df_careplans_reasoncode = pd.DataFrame(cursor.fetchall(), columns=['REASONCODE','REASONDESCRIPTION'])\n",
    "\n",
    "df_careplans_reasoncode = df_careplans_reasoncode.drop_duplicates(subset='REASONCODE')\n",
    "\n",
    "# transform dt in table\n",
    "df_careplans_reasoncode.to_sql('df_careplans_reasoncode', connection, if_exists='replace', index=False)\n",
    "   \n",
    "cursor.execute('INSERT INTO careplans_reasoncode (REASONCODE, REASONDESCRIPTION) SELECT REASONCODE, REASONDESCRIPTION FROM df_careplans_reasoncode;')\n",
    "\n",
    "cursor.execute('''DROP TABLE IF EXISTS df_careplans_reasoncode;''')\n",
    "print(pd.read_sql_query(\"PRAGMA table_info(careplans_reasoncode)\", connection))\n",
    "#print(pd.read_sql_query(\"SELECT * FROM careplans_reasoncode\", connection))"
   ]
  },
  {
   "cell_type": "markdown",
   "metadata": {},
   "source": [
    "Tabelle conditions_"
   ]
  },
  {
   "cell_type": "code",
   "execution_count": 22,
   "metadata": {},
   "outputs": [
    {
     "name": "stdout",
     "output_type": "stream",
     "text": [
      "   cid         name    type  notnull dflt_value  pk\n",
      "0    0         CODE  STRING        0       None   1\n",
      "1    1  DESCRIPTION  STRING        0       None   0\n"
     ]
    }
   ],
   "source": [
    "# table conditions\n",
    "cursor.execute('''DROP TABLE IF EXISTS conditions_;''')\n",
    "cursor.execute('''\n",
    "        CREATE TABLE conditions_ ( \n",
    "        CODE STRING PRIMARY KEY UNIQUE,\n",
    "        DESCRIPTION STRING\n",
    "        );''')\n",
    "\n",
    "# create df conditions\n",
    "cursor.execute('''SELECT CODE, DESCRIPTION FROM CONDITIONS;''')\n",
    "df_conditions = pd.DataFrame(cursor.fetchall(), columns=['CODE','DESCRIPTION'])\n",
    "\n",
    "df_conditions = df_conditions.drop_duplicates(subset='CODE')\n",
    "\n",
    "# transform dt in table\n",
    "df_conditions.to_sql('df_conditions', connection, if_exists='replace', index=False)\n",
    "\n",
    "cursor.execute('INSERT INTO conditions_ (CODE, DESCRIPTION) SELECT CODE, DESCRIPTION FROM df_conditions;')\n",
    "\n",
    "cursor.execute('''DROP TABLE IF EXISTS df_conditions;''')\n",
    "print(pd.read_sql_query(\"PRAGMA table_info(conditions_)\", connection))\n",
    "#print(pd.read_sql_query(\"SELECT * FROM conditions_\", connection))"
   ]
  },
  {
   "cell_type": "markdown",
   "metadata": {},
   "source": [
    "#### Erstelle Faktentabelle"
   ]
  },
  {
   "cell_type": "code",
   "execution_count": 23,
   "metadata": {},
   "outputs": [
    {
     "data": {
      "text/plain": [
       "<sqlite3.Cursor at 0x7f70c97a3810>"
      ]
     },
     "execution_count": 23,
     "metadata": {},
     "output_type": "execute_result"
    }
   ],
   "source": [
    "cursor.execute('''DROP TABLE IF EXISTS fact_table;''')\n",
    "cursor.execute('''\n",
    "        CREATE TABLE fact_table ( \n",
    "        PATIENT_ID STRING,\n",
    "        OBSERVATION_CODE STRING,\n",
    "        VALUE STRING,\n",
    "        DATE DATE,\n",
    "        CONDITIONS_CODE STRING,\n",
    "        ENDDATE DATE,\n",
    "        CAREPLANS_CODE STRING,\n",
    "        CAREPLANS_REASONCODE STRING,\n",
    "        FOREIGN KEY (PATIENT_ID)\n",
    "            REFERENCES patients_(ID),\n",
    "        FOREIGN KEY (OBSERVATION_CODE)\n",
    "            REFERENCES observations_(CODE),\n",
    "        FOREIGN KEY (CONDITIONS_CODE)\n",
    "            REFERENCES conditions_(CODE),\n",
    "        FOREIGN KEY (CAREPLANS_CODE)\n",
    "            REFERENCES careplans_code(CODE),\n",
    "        FOREIGN KEY (CAREPLANS_REASONCODE)\n",
    "            REFERENCES careplans_reasoncode(REASONCODE)\n",
    "        );''')\n",
    "\n",
    "cursor.execute('''INSERT INTO fact_table        \n",
    "                    (PATIENT_ID, OBSERVATION_CODE, VALUE, DATE) \n",
    "                    SELECT PATIENT, CODE, VALUE, DATE \n",
    "                    FROM OBSERVATIONS\n",
    "                    ;''')\n",
    "\n",
    "cursor.execute('''INSERT INTO fact_table        \n",
    "                    (PATIENT_ID, CAREPLANS_CODE, DATE, ENDDATE) \n",
    "                    SELECT PATIENT, CODE, START, STOP \n",
    "                    FROM CAREPLANS\n",
    "                    ;''')\n",
    "\n",
    "cursor.execute('''INSERT INTO fact_table        \n",
    "                    (PATIENT_ID, CAREPLANS_REASONCODE, DATE, ENDDATE) \n",
    "                    SELECT PATIENT, REASONCODE, START, STOP \n",
    "                    FROM CAREPLANS\n",
    "                    ;''')\n",
    "\n",
    "cursor.execute('''INSERT INTO fact_table        \n",
    "                    (PATIENT_ID, CONDITIONS_CODE, DATE, ENDDATE) \n",
    "                    SELECT PATIENT, CODE, START, STOP \n",
    "                    FROM CONDITIONS\n",
    "                    ;''')"
   ]
  },
  {
   "cell_type": "code",
   "execution_count": 24,
   "metadata": {},
   "outputs": [
    {
     "name": "stdout",
     "output_type": "stream",
     "text": [
      "   id  seq                 table                  from          to  on_update  \\\n",
      "0   0    0  careplans_reasoncode  CAREPLANS_REASONCODE  REASONCODE  NO ACTION   \n",
      "1   1    0        careplans_code        CAREPLANS_CODE        CODE  NO ACTION   \n",
      "2   2    0           conditions_       CONDITIONS_CODE        CODE  NO ACTION   \n",
      "3   3    0         observations_      OBSERVATION_CODE        CODE  NO ACTION   \n",
      "4   4    0             patients_            PATIENT_ID          ID  NO ACTION   \n",
      "\n",
      "   on_delete match  \n",
      "0  NO ACTION  NONE  \n",
      "1  NO ACTION  NONE  \n",
      "2  NO ACTION  NONE  \n",
      "3  NO ACTION  NONE  \n",
      "4  NO ACTION  NONE  \n"
     ]
    }
   ],
   "source": [
    "print(pd.read_sql_query(\"PRAGMA foreign_key_list(fact_table)\", connection))"
   ]
  },
  {
   "cell_type": "code",
   "execution_count": 25,
   "metadata": {},
   "outputs": [
    {
     "name": "stdout",
     "output_type": "stream",
     "text": [
      "[('patients',), ('careplans',), ('conditions',), ('observations',), ('patients_',), ('observations_',), ('careplans_code',), ('careplans_reasoncode',), ('conditions_',), ('fact_table',)]\n"
     ]
    }
   ],
   "source": [
    "cursor.execute('SELECT name FROM sqlite_master where type=\"table\"')\n",
    "print(cursor.fetchall())"
   ]
  },
  {
   "cell_type": "markdown",
   "metadata": {},
   "source": [
    "## Analysis\n",
    "\n",
    "Show the the percentile of a patient's body mass index indicates the relative position of the patient's BMI number among the given population. For children and teens the interpretation of BMI is both age- and sex-specific."
   ]
  },
  {
   "cell_type": "code",
   "execution_count": 26,
   "metadata": {},
   "outputs": [
    {
     "data": {
      "text/plain": [
       "<AxesSubplot:>"
      ]
     },
     "execution_count": 26,
     "metadata": {},
     "output_type": "execute_result"
    },
    {
     "data": {
      "image/png": "[encoded data removed]",
      "text/plain": [
       "<Figure size 432x288 with 1 Axes>"
      ]
     },
     "metadata": {
      "needs_background": "light"
     },
     "output_type": "display_data"
    }
   ],
   "source": [
    "from matplotlib import pyplot as plt\n",
    "import numpy as np\n",
    "import seaborn as sns\n",
    "\n",
    "df_bmi_perc = pd.read_sql(\"SELECT * FROM fact_table WHERE observation_code = '59576-9'\",connection)\n",
    "df_bmi_perc['VALUE'].hist()"
   ]
  },
  {
   "cell_type": "code",
   "execution_count": 27,
   "metadata": {},
   "outputs": [
    {
     "data": {
      "text/plain": [
       "(array([9.970e+02, 1.315e+03, 1.060e+03, 2.255e+03, 8.941e+03, 3.000e+02,\n",
       "        1.280e+02, 5.000e+01, 2.400e+01, 7.000e+00]),\n",
       " array([12.9 , 16.53, 20.16, 23.79, 27.42, 31.05, 34.68, 38.31, 41.94,\n",
       "        45.57, 49.2 ]),\n",
       " <BarContainer object of 10 artists>)"
      ]
     },
     "execution_count": 27,
     "metadata": {},
     "output_type": "execute_result"
    },
    {
     "data": {
      "image/png": "[encoded data removed]",
      "text/plain": [
       "<Figure size 432x288 with 1 Axes>"
      ]
     },
     "metadata": {
      "needs_background": "light"
     },
     "output_type": "display_data"
    }
   ],
   "source": [
    "df_bmi = pd.read_sql(\"SELECT * FROM fact_table WHERE observation_code ='39156-5'\",connection)\n",
    "plt.hist(df_bmi['VALUE'])"
   ]
  },
  {
   "cell_type": "code",
   "execution_count": 28,
   "metadata": {},
   "outputs": [],
   "source": [
    "df_height_weight = pd.read_sql(\"SELECT distinct fact_table.patient_id, fact_table.value,weight.value FROM fact_table left JOIN (SELECT distinct patient_ID,value FROM fact_table WHERE observation_code = '29463-7') AS weight on weight.patient_ID==fact_table.patient_id WHERE observation_code = '8302-2' \",connection)\n"
   ]
  },
  {
   "cell_type": "code",
   "execution_count": 29,
   "metadata": {},
   "outputs": [
    {
     "data": {
      "text/plain": [
       "<matplotlib.collections.PathCollection at 0x7f70fede57c0>"
      ]
     },
     "execution_count": 29,
     "metadata": {},
     "output_type": "execute_result"
    },
    {
     "data": {
      "image/png": "[encoded data removed]",
      "text/plain": [
       "<Figure size 432x288 with 1 Axes>"
      ]
     },
     "metadata": {
      "needs_background": "light"
     },
     "output_type": "display_data"
    }
   ],
   "source": [
    "# TODO fix \n",
    "df_height_weight = pd.read_sql(\"SELECT distinct fact_table.patient_id, fact_table.value,weight.value FROM fact_table left JOIN (SELECT distinct patient_ID,value FROM fact_table WHERE observation_code = '29463-7') AS weight on weight.patient_ID==fact_table.patient_id WHERE observation_code = '8302-2' \",connection)\n",
    "df_height_weight = df_height_weight.rename({'VALUE': 'height', 'value': 'weight'}, axis=1)\n",
    "plt.scatter(df_height_weight.height,df_height_weight.weight)"
   ]
  },
  {
   "cell_type": "code",
   "execution_count": 30,
   "metadata": {},
   "outputs": [
    {
     "data": {
      "text/plain": [
       "[]"
      ]
     },
     "execution_count": 30,
     "metadata": {},
     "output_type": "execute_result"
    },
    {
     "data": {
      "image/png": "[encoded data removed]",
      "text/plain": [
       "<Figure size 432x288 with 1 Axes>"
      ]
     },
     "metadata": {},
     "output_type": "display_data"
    }
   ],
   "source": [
    "df_con = pd.read_sql(\"SELECT conditions.patient,conditions.code,conditions.description,observations.value\\\n",
    " FROM conditions join observations on observations.patient==conditions.patient WHERE observations.Code = '39156-5' AND conditions.description NOT LIKE '%finding%'\",connection)\n",
    "plt.pie(df_con['DESCRIPTION'].value_counts()[:10],labels=df_con['DESCRIPTION'].value_counts()[:10].index)\n",
    "plt.plot()"
   ]
  },
  {
   "cell_type": "markdown",
   "metadata": {},
   "source": [
    "### Verteilung Oberservation/Conditions\n",
    "\n",
    "Verschiedener Beobachtungen zu den Top 5 Krankheitesaufkommen in unseren Datensatz.\n",
    "\n"
   ]
  },
  {
   "cell_type": "code",
   "execution_count": 31,
   "metadata": {},
   "outputs": [
    {
     "data": {
      "text/html": [
       "<div>\n",
       "<style scoped>\n",
       "    .dataframe tbody tr th:only-of-type {\n",
       "        vertical-align: middle;\n",
       "    }\n",
       "\n",
       "    .dataframe tbody tr th {\n",
       "        vertical-align: top;\n",
       "    }\n",
       "\n",
       "    .dataframe thead th {\n",
       "        text-align: right;\n",
       "    }\n",
       "</style>\n",
       "<table border=\"1\" class=\"dataframe\">\n",
       "  <thead>\n",
       "    <tr style=\"text-align: right;\">\n",
       "      <th></th>\n",
       "      <th>DESCRIPTION</th>\n",
       "      <th>COUNT</th>\n",
       "      <th>CODE</th>\n",
       "    </tr>\n",
       "  </thead>\n",
       "  <tbody>\n",
       "    <tr>\n",
       "      <th>0</th>\n",
       "      <td>Viral sinusitis (disorder)</td>\n",
       "      <td>16761</td>\n",
       "      <td>444814009</td>\n",
       "    </tr>\n",
       "    <tr>\n",
       "      <th>1</th>\n",
       "      <td>Acute viral pharyngitis (disorder)</td>\n",
       "      <td>9907</td>\n",
       "      <td>195662009</td>\n",
       "    </tr>\n",
       "    <tr>\n",
       "      <th>2</th>\n",
       "      <td>Hypertension</td>\n",
       "      <td>7931</td>\n",
       "      <td>59621000</td>\n",
       "    </tr>\n",
       "    <tr>\n",
       "      <th>3</th>\n",
       "      <td>Acute bronchitis (disorder)</td>\n",
       "      <td>7820</td>\n",
       "      <td>10509002</td>\n",
       "    </tr>\n",
       "    <tr>\n",
       "      <th>4</th>\n",
       "      <td>Prediabetes</td>\n",
       "      <td>6679</td>\n",
       "      <td>15777000</td>\n",
       "    </tr>\n",
       "  </tbody>\n",
       "</table>\n",
       "</div>"
      ],
      "text/plain": [
       "                          DESCRIPTION  COUNT       CODE\n",
       "0          Viral sinusitis (disorder)  16761  444814009\n",
       "1  Acute viral pharyngitis (disorder)   9907  195662009\n",
       "2                        Hypertension   7931   59621000\n",
       "3         Acute bronchitis (disorder)   7820   10509002\n",
       "4                         Prediabetes   6679   15777000"
      ]
     },
     "execution_count": 31,
     "metadata": {},
     "output_type": "execute_result"
    }
   ],
   "source": [
    "top_five = pd.DataFrame(df_con['DESCRIPTION'].value_counts()[:5]).reset_index()\n",
    "top_five = top_five.rename({'index': 'DESCRIPTION', 'DESCRIPTION': 'COUNT'}, axis=1)\n",
    "top_five['CODE'] = df_con['CODE'].value_counts()[:5].index\n",
    "top_five"
   ]
  },
  {
   "cell_type": "markdown",
   "metadata": {},
   "source": [
    "- 8302-2,Body Height\n",
    "- 29463-7,Body Weight\n",
    "- 39156-5,Body Mass Index\n",
    "- 8462-4,Diastolic Blood Pressure\n",
    "- 8480-6,Systolic Blood Pressure\n",
    "- 8867-4,Heart rate"
   ]
  },
  {
   "cell_type": "code",
   "execution_count": 32,
   "metadata": {},
   "outputs": [
    {
     "data": {
      "text/html": [
       "<div>\n",
       "<style scoped>\n",
       "    .dataframe tbody tr th:only-of-type {\n",
       "        vertical-align: middle;\n",
       "    }\n",
       "\n",
       "    .dataframe tbody tr th {\n",
       "        vertical-align: top;\n",
       "    }\n",
       "\n",
       "    .dataframe thead th {\n",
       "        text-align: right;\n",
       "    }\n",
       "</style>\n",
       "<table border=\"1\" class=\"dataframe\">\n",
       "  <thead>\n",
       "    <tr style=\"text-align: right;\">\n",
       "      <th></th>\n",
       "      <th>Body Height</th>\n",
       "      <th>Body Weight</th>\n",
       "      <th>Body Mass Index</th>\n",
       "      <th>Diastolic Blood Pressure</th>\n",
       "      <th>Systolic Blood Pressure</th>\n",
       "      <th>Heart rate</th>\n",
       "      <th>Disease</th>\n",
       "    </tr>\n",
       "  </thead>\n",
       "  <tbody>\n",
       "    <tr>\n",
       "      <th>0</th>\n",
       "      <td>52.6</td>\n",
       "      <td>2.9</td>\n",
       "      <td>28.5</td>\n",
       "      <td>71.0</td>\n",
       "      <td>123.0</td>\n",
       "      <td>68.0</td>\n",
       "      <td>Viral sinusitis (disorder)</td>\n",
       "    </tr>\n",
       "    <tr>\n",
       "      <th>1</th>\n",
       "      <td>57.7</td>\n",
       "      <td>3.6</td>\n",
       "      <td>29.7</td>\n",
       "      <td>72.0</td>\n",
       "      <td>126.0</td>\n",
       "      <td>90.0</td>\n",
       "      <td>Viral sinusitis (disorder)</td>\n",
       "    </tr>\n",
       "    <tr>\n",
       "      <th>2</th>\n",
       "      <td>61.5</td>\n",
       "      <td>4.8</td>\n",
       "      <td>27.7</td>\n",
       "      <td>69.0</td>\n",
       "      <td>118.0</td>\n",
       "      <td>99.0</td>\n",
       "      <td>Viral sinusitis (disorder)</td>\n",
       "    </tr>\n",
       "    <tr>\n",
       "      <th>3</th>\n",
       "      <td>66.1</td>\n",
       "      <td>5.8</td>\n",
       "      <td>27.6</td>\n",
       "      <td>65.0</td>\n",
       "      <td>130.0</td>\n",
       "      <td>73.0</td>\n",
       "      <td>Viral sinusitis (disorder)</td>\n",
       "    </tr>\n",
       "    <tr>\n",
       "      <th>4</th>\n",
       "      <td>69.9</td>\n",
       "      <td>7.0</td>\n",
       "      <td>27.6</td>\n",
       "      <td>69.0</td>\n",
       "      <td>125.0</td>\n",
       "      <td>74.0</td>\n",
       "      <td>Viral sinusitis (disorder)</td>\n",
       "    </tr>\n",
       "  </tbody>\n",
       "</table>\n",
       "</div>"
      ],
      "text/plain": [
       "   Body Height  Body Weight  Body Mass Index  Diastolic Blood Pressure  \\\n",
       "0         52.6          2.9             28.5                      71.0   \n",
       "1         57.7          3.6             29.7                      72.0   \n",
       "2         61.5          4.8             27.7                      69.0   \n",
       "3         66.1          5.8             27.6                      65.0   \n",
       "4         69.9          7.0             27.6                      69.0   \n",
       "\n",
       "   Systolic Blood Pressure  Heart rate                     Disease  \n",
       "0                    123.0        68.0  Viral sinusitis (disorder)  \n",
       "1                    126.0        90.0  Viral sinusitis (disorder)  \n",
       "2                    118.0        99.0  Viral sinusitis (disorder)  \n",
       "3                    130.0        73.0  Viral sinusitis (disorder)  \n",
       "4                    125.0        74.0  Viral sinusitis (disorder)  "
      ]
     },
     "execution_count": 32,
     "metadata": {},
     "output_type": "execute_result"
    }
   ],
   "source": [
    "disease_labels = ['Viral sinusitis (disorder)','Acute viral pharyngitis (disorder)','Hypertension','Acute bronchitis (disorder)','Prediabetes']\n",
    "disease_codes = [444814009,195662009,59621000,10509002,15777000]\n",
    "observation_lables = ['Body Height','Body Weight','Body Mass Index','Diastolic Blood Pressure','Systolic Blood Pressure','Heart rate']\n",
    "observation_codes = ['8302-2','29463-7','39156-5','8462-4','8480-6','8867-4']\n",
    "df_lists = list()\n",
    "for dis_code,dis_lable in zip(disease_codes,disease_labels):\n",
    "    df = pd.DataFrame()\n",
    "    for ob_code,ob_lable in zip(observation_codes,observation_lables):\n",
    "        sql_pattern = f\"\"\"\n",
    "        SELECT observations.date,conditions.patient,conditions.code,observations.value\n",
    "            FROM conditions join observations on observations.patient==conditions.patient\n",
    "            WHERE observations.Code = '{ob_code}' AND conditions.code = '{dis_code}'\"\"\"\n",
    "        df[ob_lable] = pd.read_sql(sql_pattern,connection)['VALUE']\n",
    "    df['Disease'] = dis_lable\n",
    "    df_lists.append(df)\n",
    "df_data = pd.concat(df_lists).reset_index(drop=True)\n",
    "df_data.head()"
   ]
  },
  {
   "cell_type": "code",
   "execution_count": 33,
   "metadata": {},
   "outputs": [
    {
     "data": {
      "text/html": [
       "<div>\n",
       "<style scoped>\n",
       "    .dataframe tbody tr th:only-of-type {\n",
       "        vertical-align: middle;\n",
       "    }\n",
       "\n",
       "    .dataframe tbody tr th {\n",
       "        vertical-align: top;\n",
       "    }\n",
       "\n",
       "    .dataframe thead th {\n",
       "        text-align: right;\n",
       "    }\n",
       "</style>\n",
       "<table border=\"1\" class=\"dataframe\">\n",
       "  <thead>\n",
       "    <tr style=\"text-align: right;\">\n",
       "      <th></th>\n",
       "      <th>Body Height</th>\n",
       "      <th>Body Weight</th>\n",
       "      <th>Body Mass Index</th>\n",
       "      <th>Diastolic Blood Pressure</th>\n",
       "      <th>Systolic Blood Pressure</th>\n",
       "      <th>Heart rate</th>\n",
       "      <th>Disease</th>\n",
       "      <th>class</th>\n",
       "    </tr>\n",
       "  </thead>\n",
       "  <tbody>\n",
       "    <tr>\n",
       "      <th>0</th>\n",
       "      <td>52.6</td>\n",
       "      <td>2.9</td>\n",
       "      <td>28.5</td>\n",
       "      <td>71.0</td>\n",
       "      <td>123.0</td>\n",
       "      <td>68.0</td>\n",
       "      <td>Viral sinusitis (disorder)</td>\n",
       "      <td>overweight</td>\n",
       "    </tr>\n",
       "    <tr>\n",
       "      <th>1</th>\n",
       "      <td>57.7</td>\n",
       "      <td>3.6</td>\n",
       "      <td>29.7</td>\n",
       "      <td>72.0</td>\n",
       "      <td>126.0</td>\n",
       "      <td>90.0</td>\n",
       "      <td>Viral sinusitis (disorder)</td>\n",
       "      <td>overweight</td>\n",
       "    </tr>\n",
       "    <tr>\n",
       "      <th>2</th>\n",
       "      <td>61.5</td>\n",
       "      <td>4.8</td>\n",
       "      <td>27.7</td>\n",
       "      <td>69.0</td>\n",
       "      <td>118.0</td>\n",
       "      <td>99.0</td>\n",
       "      <td>Viral sinusitis (disorder)</td>\n",
       "      <td>overweight</td>\n",
       "    </tr>\n",
       "    <tr>\n",
       "      <th>3</th>\n",
       "      <td>66.1</td>\n",
       "      <td>5.8</td>\n",
       "      <td>27.6</td>\n",
       "      <td>65.0</td>\n",
       "      <td>130.0</td>\n",
       "      <td>73.0</td>\n",
       "      <td>Viral sinusitis (disorder)</td>\n",
       "      <td>overweight</td>\n",
       "    </tr>\n",
       "    <tr>\n",
       "      <th>4</th>\n",
       "      <td>69.9</td>\n",
       "      <td>7.0</td>\n",
       "      <td>27.6</td>\n",
       "      <td>69.0</td>\n",
       "      <td>125.0</td>\n",
       "      <td>74.0</td>\n",
       "      <td>Viral sinusitis (disorder)</td>\n",
       "      <td>overweight</td>\n",
       "    </tr>\n",
       "  </tbody>\n",
       "</table>\n",
       "</div>"
      ],
      "text/plain": [
       "   Body Height  Body Weight  Body Mass Index  Diastolic Blood Pressure  \\\n",
       "0         52.6          2.9             28.5                      71.0   \n",
       "1         57.7          3.6             29.7                      72.0   \n",
       "2         61.5          4.8             27.7                      69.0   \n",
       "3         66.1          5.8             27.6                      65.0   \n",
       "4         69.9          7.0             27.6                      69.0   \n",
       "\n",
       "   Systolic Blood Pressure  Heart rate                     Disease       class  \n",
       "0                    123.0        68.0  Viral sinusitis (disorder)  overweight  \n",
       "1                    126.0        90.0  Viral sinusitis (disorder)  overweight  \n",
       "2                    118.0        99.0  Viral sinusitis (disorder)  overweight  \n",
       "3                    130.0        73.0  Viral sinusitis (disorder)  overweight  \n",
       "4                    125.0        74.0  Viral sinusitis (disorder)  overweight  "
      ]
     },
     "execution_count": 33,
     "metadata": {},
     "output_type": "execute_result"
    }
   ],
   "source": [
    "df_data['class'] = ''\n",
    "df_data.loc[df_data['Body Mass Index'].values<18,'class'] = 'underweight'\n",
    "df_data.loc[df_data['Body Mass Index'].values>=18,'class'] = 'normal'\n",
    "df_data.loc[df_data['Body Mass Index'].values>=25,'class'] = 'overweight'\n",
    "df_data.loc[df_data['Body Mass Index'].values>=30,'class'] = 'obese'\n",
    "df_data.head()"
   ]
  },
  {
   "cell_type": "code",
   "execution_count": 34,
   "metadata": {},
   "outputs": [
    {
     "data": {
      "image/png": "[encoded data removed]",
      "text/plain": [
       "<Figure size 432x288 with 1 Axes>"
      ]
     },
     "metadata": {},
     "output_type": "display_data"
    }
   ],
   "source": [
    "sns.set(style=\"darkgrid\")\n",
    "ax = sns.boxplot(x=\"Body Mass Index\", y=\"Disease\", data=df_data)\n",
    "plt.axvline(x=25, c='red',ls=':')\n",
    "plt.show()"
   ]
  },
  {
   "cell_type": "code",
   "execution_count": 35,
   "metadata": {},
   "outputs": [
    {
     "data": {
      "image/png": "[encoded data removed]",
      "text/plain": [
       "<Figure size 432x288 with 1 Axes>"
      ]
     },
     "metadata": {},
     "output_type": "display_data"
    }
   ],
   "source": [
    "ax = sns.ecdfplot(data=df_data, x=\"Body Mass Index\",hue='Disease')\n",
    "plt.axvline(x=25, c='red',ls=':')\n",
    "plt.show()"
   ]
  },
  {
   "cell_type": "code",
   "execution_count": 36,
   "metadata": {},
   "outputs": [
    {
     "data": {
      "image/png": "[encoded data removed]",
      "text/plain": [
       "<Figure size 432x288 with 1 Axes>"
      ]
     },
     "metadata": {},
     "output_type": "display_data"
    }
   ],
   "source": [
    "df_hypertension = df_data.where(df_data['Disease']== 'Hypertension')\n",
    "sns.barplot(x=df_hypertension['class'].value_counts().index,y=df_hypertension['class'].value_counts().values)\n",
    "plt.title(\"Hypertension\")\n",
    "plt.show()"
   ]
  },
  {
   "cell_type": "markdown",
   "metadata": {},
   "source": [
    "### [Regression](https://scikit-learn.org/stable/auto_examples/cross_decomposition/plot_pcr_vs_pls.html#sphx-glr-auto-examples-cross-decomposition-plot-pcr-vs-pls-py)"
   ]
  },
  {
   "cell_type": "code",
   "execution_count": 37,
   "metadata": {},
   "outputs": [
    {
     "data": {
      "text/plain": [
       "array(['Viral sinusitis (disorder)'], dtype=object)"
      ]
     },
     "execution_count": 37,
     "metadata": {},
     "output_type": "execute_result"
    }
   ],
   "source": [
    "from sklearn.linear_model import LogisticRegression\n",
    "\n",
    "df_reg = df_data.dropna()\n",
    "X, y = df_reg.drop(['Disease','class'],axis=1)['Body Mass Index'].values.reshape((-1, 1)), df_reg['Disease']\n",
    "model = LogisticRegression(multi_class='multinomial', solver='lbfgs').fit(X,y)\n",
    "\n",
    "model.predict(np.array([25,]).reshape(-1, 1))"
   ]
  },
  {
   "cell_type": "markdown",
   "metadata": {},
   "source": [
    "### [Decision tree](https://scikit-learn.org/stable/auto_examples/tree/plot_unveil_tree_structure.html#sphx-glr-auto-examples-tree-plot-unveil-tree-structure-py)"
   ]
  },
  {
   "cell_type": "code",
   "execution_count": 38,
   "metadata": {},
   "outputs": [
    {
     "name": "stdout",
     "output_type": "stream",
     "text": [
      "Index(['Body Height', 'Body Weight', 'Body Mass Index',\n",
      "       'Diastolic Blood Pressure', 'Systolic Blood Pressure', 'Heart rate'],\n",
      "      dtype='object')\n"
     ]
    }
   ],
   "source": [
    "from sklearn import tree\n",
    "df_tree = df_data.dropna()\n",
    "X, y = df_tree.drop(['Disease','class'],axis=1), df_tree['Disease']\n",
    "clf = tree.DecisionTreeClassifier(max_depth=5,max_features='sqrt',random_state=42)\n",
    "clf = clf.fit(X, y)\n",
    "print(X.columns)"
   ]
  },
  {
   "cell_type": "code",
   "execution_count": 39,
   "metadata": {},
   "outputs": [
    {
     "data": {
      "image/png": "[encoded data removed]",
      "text/plain": [
       "<Figure size 432x288 with 1 Axes>"
      ]
     },
     "metadata": {},
     "output_type": "display_data"
    }
   ],
   "source": [
    "from sklearn.tree import plot_tree\n",
    "import matplotlib.image as mpimg\n",
    "\n",
    "plt.figure()\n",
    "\n",
    "# need to munch time to run in CI\n",
    "plot_tree(clf, filled=True)\n",
    "plt.savefig('../images/decision_tree.png',dpi=800)\n",
    "plt.title(\"Decision tree\")\n",
    "\n",
    "plt.show()"
   ]
  },
  {
   "cell_type": "markdown",
   "metadata": {},
   "source": [
    "## Aufräumen & Logs speichern"
   ]
  },
  {
   "cell_type": "code",
   "execution_count": 40,
   "metadata": {},
   "outputs": [
    {
     "name": "stdout",
     "output_type": "stream",
     "text": [
      "{\"type\": \"info\", \"time\": 1657532206118, \"message\": \"⏳ Connected to db and created tables in 24ms\", \"params\": {\"timingInMilliseconds\": 24}}\n",
      "{\"type\": \"info\", \"time\": 1657532206118, \"message\": \"⏳ Loading data into db in 3608ms\", \"params\": {\"timingInMilliseconds\": 3608}}\n"
     ]
    }
   ],
   "source": [
    "connection.close()\n",
    "logger.logTimings()\n",
    "logger.writeToFile(\"../artefacts-for-release/analysis-log.json\")"
   ]
  }
 ],
 "metadata": {
  "kernelspec": {
   "display_name": "Python 3.8.10 64-bit",
   "language": "python",
   "name": "python3"
  },
  "language_info": {
   "codemirror_mode": {
    "name": "ipython",
    "version": 3
   },
   "file_extension": ".py",
   "mimetype": "text/x-python",
   "name": "python",
   "nbconvert_exporter": "python",
   "pygments_lexer": "ipython3",
   "version": "3.8.10"
  },
  "orig_nbformat": 4,
  "vscode": {
   "interpreter": {
    "hash": "916dbcbb3f70747c44a77c7bcd40155683ae19c65e1c03b4aa3499c5328201f1"
   }
  }
 },
 "nbformat": 4,
 "nbformat_minor": 2
}
