{
 "cells": [
  {
   "cell_type": "markdown",
   "metadata": {},
   "source": [
    "# Analysis"
   ]
  },
  {
   "cell_type": "code",
   "execution_count": null,
   "metadata": {},
   "outputs": [],
   "source": [
    "tables = [\n",
    "    \"careplans\",\n",
    "    \"conditions\",\n",
    "    \"devices\",\n",
    "    \"encounters\",\n",
    "    \"imaging_studies\",\n",
    "    \"immunizations\",\n",
    "    \"medications\",\n",
    "    \"observations\",\n",
    "    \"patients\",\n",
    "    \"procedures\",\n",
    "]"
   ]
  },
  {
   "cell_type": "code",
   "execution_count": null,
   "metadata": {},
   "outputs": [],
   "source": [
    "!mkdir -p data/allergy"
   ]
  },
  {
   "cell_type": "code",
   "execution_count": 3,
   "metadata": {},
   "outputs": [
    {
     "name": "stdout",
     "output_type": "stream",
     "text": [
      "File data/allergy/careplans.csv already exists, skipping download\n",
      "File data/allergy/conditions.csv already exists, skipping download\n",
      "File data/allergy/devices.csv already exists, skipping download\n",
      "File data/allergy/disease.csv already exists, skipping download\n",
      "File data/allergy/encounters.csv already exists, skipping download\n",
      "File data/allergy/imaging_studies.csv already exists, skipping download\n",
      "File data/allergy/immunizations.csv already exists, skipping download\n",
      "File data/allergy/medications.csv already exists, skipping download\n",
      "File data/allergy/observations.csv already exists, skipping download\n",
      "File data/allergy/patients.csv already exists, skipping download\n",
      "File data/allergy/payers.csv already exists, skipping download\n",
      "File data/allergy/procedures.csv already exists, skipping download\n",
      "File data/allergy/providers.csv already exists, skipping download\n",
      "File data/allergy/supplies.csv already exists, skipping download\n"
     ]
    }
   ],
   "source": [
    "from urllib.request import urlopen\n",
    "import os\n",
    "\n",
    "files = [\n",
    "    \"data/allergy/careplans.csv\",\n",
    "    \"data/allergy/conditions.csv\",\n",
    "    \"data/allergy/devices.csv\",\n",
    "    \"data/allergy/disease.csv\",\n",
    "    \"data/allergy/encounters.csv\",\n",
    "    \"data/allergy/imaging_studies.csv\",\n",
    "    \"data/allergy/immunizations.csv\",\n",
    "    \"data/allergy/medications.csv\",\n",
    "    \"data/allergy/observations.csv\",\n",
    "    \"data/allergy/patients.csv\",\n",
    "    \"data/allergy/payers.csv\",\n",
    "    \"data/allergy/procedures.csv\",\n",
    "    \"data/allergy/providers.csv\",\n",
    "    \"data/allergy/supplies.csv\",\n",
    "]\n",
    "\n",
    "def ensure_file_has_been_downloaded(filename):\n",
    "    full_filename = \"../\" + filename\n",
    "\n",
    "    url = \"https://raw.githubusercontent.com/Fuenfgeld/DMA2022DataProjectC/main/\" + filename\n",
    "    if os.path.isfile(full_filename):\n",
    "        print(\"File {} already exists, skipping download\".format(filename))\n",
    "    else:\n",
    "        print(\"Downloading {}\".format(filename))\n",
    "\n",
    "    download_file(url, full_filename)\n",
    "\n",
    "def download_file(url, filename):\n",
    "    with open(filename, 'wb') as out_file:\n",
    "        with urlopen(url) as file:\n",
    "            out_file.write(file.read())\n",
    "\n",
    "if not os.path.isfile(\"extract.py\"):\n",
    "    download_file(\n",
    "        \"https://raw.githubusercontent.com/Fuenfgeld/DMA2022DataProjectC/main/src/extract.py\",\n",
    "        \"extract.py\"\n",
    "    )\n",
    "\n",
    "for file in files:\n",
    "    ensure_file_has_been_downloaded(file)"
   ]
  },
  {
   "cell_type": "code",
   "execution_count": 3,
   "metadata": {},
   "outputs": [
    {
     "name": "stdout",
     "output_type": "stream",
     "text": [
      "SQL insert process finished\n",
      "SQL insert process finished\n",
      "SQL insert process finished\n",
      "SQL insert process finished\n",
      "SQL insert process finished\n",
      "SQL insert process finished\n",
      "SQL insert process finished\n",
      "SQL insert process finished\n",
      "SQL insert process finished\n",
      "SQL insert process finished\n",
      "SQL insert process finished\n"
     ]
    }
   ],
   "source": [
    "import extract\n",
    "\n",
    "tables = [\n",
    "    \"careplans\",\n",
    "    \"conditions\",\n",
    "    \"devices\",\n",
    "    \"disease\",\n",
    "    \"encounters\",\n",
    "    \"imaging_studies\",\n",
    "    \"immunizations\",\n",
    "    \"medications\",\n",
    "    \"observations\",\n",
    "    \"patients\",\n",
    "    \"procedures\",\n",
    "]\n",
    "\n",
    "connection = extract.connect_to_db(\"allergy.sqlite\")\n",
    "for table in tables:\n",
    "    extract.insert_values_to_table(connection.cursor(), table, \"../data/allergy/\" + table + \".csv\")\n",
    "    connection.commit()\n",
    "\n",
    "connection.close()"
   ]
  }
 ],
 "metadata": {
  "interpreter": {
   "hash": "aee8b7b246df8f9039afb4144a1f6fd8d2ca17a180786b69acc140d282b71a49"
  },
  "kernelspec": {
   "display_name": "Python 3.9.12 64-bit",
   "language": "python",
   "name": "python3"
  },
  "language_info": {
   "codemirror_mode": {
    "name": "ipython",
    "version": 3
   },
   "file_extension": ".py",
   "mimetype": "text/x-python",
   "name": "python",
   "nbconvert_exporter": "python",
   "pygments_lexer": "ipython3",
   "version": "3.9.12"
  },
  "orig_nbformat": 4
 },
 "nbformat": 4,
 "nbformat_minor": 2
}
