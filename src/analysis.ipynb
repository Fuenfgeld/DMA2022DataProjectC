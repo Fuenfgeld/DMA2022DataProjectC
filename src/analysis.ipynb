{
 "cells": [
  {
   "cell_type": "markdown",
   "metadata": {},
   "source": [
    "# Analysis"
   ]
  },
  {
   "cell_type": "markdown",
   "metadata": {},
   "source": [
    "## Setup\n",
    "\n",
    "Zuerst laden wir die benötigten Daten herunter und initialisieren die genutzten Python Objekte."
   ]
  },
  {
   "cell_type": "code",
   "execution_count": null,
   "metadata": {},
   "outputs": [],
   "source": [
    "tables = [\n",
    "    \"careplans\",\n",
    "    \"conditions\",\n",
    "    \"devices\",\n",
    "    \"encounters\",\n",
    "    \"imaging_studies\",\n",
    "    \"immunizations\",\n",
    "    \"medications\",\n",
    "    \"observations\",\n",
    "    \"patients\",\n",
    "    \"procedures\",\n",
    "]"
   ]
  },
  {
   "cell_type": "code",
   "execution_count": null,
   "metadata": {},
   "outputs": [],
   "source": [
    "!mkdir -p data/allergy"
   ]
  },
  {
   "cell_type": "code",
   "execution_count": null,
   "metadata": {},
   "outputs": [],
   "source": [
    "from urllib.request import urlopen\n",
    "import os\n",
    "\n",
    "files = [\n",
    "    \"data/allergy/careplans.csv\",\n",
    "    \"data/allergy/conditions.csv\",\n",
    "    \"data/allergy/devices.csv\",\n",
    "    \"data/allergy/disease.csv\",\n",
    "    \"data/allergy/encounters.csv\",\n",
    "    \"data/allergy/imaging_studies.csv\",\n",
    "    \"data/allergy/immunizations.csv\",\n",
    "    \"data/allergy/medications.csv\",\n",
    "    \"data/allergy/observations.csv\",\n",
    "    \"data/allergy/patients.csv\",\n",
    "    \"data/allergy/payers.csv\",\n",
    "    \"data/allergy/procedures.csv\",\n",
    "    \"data/allergy/providers.csv\",\n",
    "    \"data/allergy/supplies.csv\",\n",
    "]\n",
    "\n",
    "def ensure_file_has_been_downloaded(filename):\n",
    "    full_filename = \"../\" + filename\n",
    "\n",
    "    url = \"https://raw.githubusercontent.com/Fuenfgeld/DMA2022DataProjectC/main/\" + filename\n",
    "    if os.path.isfile(full_filename):\n",
    "        print(\"File {} already exists, skipping download\".format(filename))\n",
    "    else:\n",
    "        print(\"Downloading {}\".format(filename))\n",
    "\n",
    "    download_file(url, full_filename)\n",
    "\n",
    "def download_file(url, filename):\n",
    "    with open(filename, 'wb') as out_file:\n",
    "        with urlopen(url) as file:\n",
    "            out_file.write(file.read())\n",
    "\n",
    "if not os.path.isfile(\"extract.py\"):\n",
    "    download_file(\n",
    "        \"https://raw.githubusercontent.com/Fuenfgeld/DMA2022DataProjectC/main/src/extract.py\",\n",
    "        \"extract.py\"\n",
    "    )\n",
    "\n",
    "for file in files:\n",
    "    ensure_file_has_been_downloaded(file)"
   ]
  },
  {
   "cell_type": "code",
   "execution_count": null,
   "metadata": {},
   "outputs": [],
   "source": [
    "import json\n",
    "import time\n",
    "\n",
    "def timestampInMilliseconds():\n",
    "    return int(round(time.time() * 1000))\n",
    "\n",
    "class Logger:\n",
    "    timings = []\n",
    "    logs = []\n",
    "    print = lambda _self, message: print(message)\n",
    "\n",
    "    def startTimeMeasurement(self, identifier, description):\n",
    "        self.timings.append({\n",
    "            \"identifier\": identifier,\n",
    "            \"description\": description,\n",
    "            \"start\": timestampInMilliseconds(),\n",
    "            \"end\": None,\n",
    "        })\n",
    "    \n",
    "    def endTimeMeasurement(self, identifier):\n",
    "        for index in range(len(self.timings)):\n",
    "            if self.timings[index][\"identifier\"] == identifier:\n",
    "                self.timings[index][\"end\"] = timestampInMilliseconds()\n",
    "                break\n",
    "\n",
    "    def log(self, message, params = None, type = \"info\"):\n",
    "        jsonMessage = json.dumps(\n",
    "            {\"type\": type, \"time\": timestampInMilliseconds(), \"message\": message, \"params\": params},\n",
    "            ensure_ascii=False\n",
    "        )\n",
    "        self.print(jsonMessage)\n",
    "        self.logs.append(jsonMessage)\n",
    "\n",
    "    def logError(self, message, params = None):\n",
    "        self.log(message, params, \"error\")\n",
    "\n",
    "    def logTimings(self):\n",
    "        for timing in self.timings:\n",
    "            usedTime = timing['end'] - timing['start']\n",
    "            message = f\"⏳ {timing['description']} in {usedTime}ms\"\n",
    "            self.logWithTiming(message, usedTime)\n",
    "\n",
    "    def logWithTiming(self, message, timingInMilliseconds):\n",
    "        self.log(message, {\"timingInMilliseconds\": timingInMilliseconds})\n",
    "\n",
    "    def writeToFile(self, fileName):\n",
    "        with open(fileName, 'w', encoding='utf-8') as fileHandle:\n",
    "            messages = \",\\n\".join(self.logs)\n",
    "            fileHandle.write(f\"[\\n{messages}\\n]\")\n"
   ]
  },
  {
   "cell_type": "code",
   "execution_count": null,
   "metadata": {},
   "outputs": [],
   "source": [
    "logger = Logger()"
   ]
  },
  {
   "cell_type": "code",
   "execution_count": null,
   "metadata": {},
   "outputs": [],
   "source": [
    "class TestExecutor:\n",
    "    testLogger = None\n",
    "    resultLogger = None\n",
    "\n",
    "    def __init__(self, logger):\n",
    "        # The result logger is used to log whether or not a test was successful.\n",
    "        self.resultLogger = logger\n",
    "\n",
    "        # The test logger is handed to the unit tests so that they do not log any output.\n",
    "        # We therefore override the log method so that it does not print anything.\n",
    "        self.testLogger = Logger()\n",
    "        self.testLogger.log = lambda _self, _message: None\n",
    "\n",
    "    def execute(self, description, test):\n",
    "        try:\n",
    "            test(self.testLogger)\n",
    "\n",
    "            self.resultLogger.log(f\"✅ Test ran successfully: {description}\")\n",
    "        except Exception as exception:\n",
    "            self.resultLogger.log(f\"❌ Test failed: {description}\", exception.args)"
   ]
  },
  {
   "cell_type": "code",
   "execution_count": null,
   "metadata": {},
   "outputs": [],
   "source": [
    "testExecutor = TestExecutor(logger)"
   ]
  },
  {
   "cell_type": "markdown",
   "metadata": {},
   "source": [
    "## Mit Datenbank verbinden"
   ]
  },
  {
   "cell_type": "code",
   "execution_count": null,
   "metadata": {},
   "outputs": [],
   "source": [
    "import extract\n",
    "import time\n",
    "\n",
    "databaseFile = \"allergy.sqlite\"\n",
    "\n",
    "logger.startTimeMeasurement('open-db', 'Connected to db and created tables')\n",
    "connection = extract.connect_to_db(logger, databaseFile)\n",
    "logger.endTimeMeasurement('open-db')"
   ]
  },
  {
   "cell_type": "code",
   "execution_count": null,
   "metadata": {},
   "outputs": [],
   "source": [
    "def test_sqliteConnection(_logger):\n",
    "    cursor = connection.cursor()\n",
    "    cursor.execute(\"SELECT name FROM sqlite_schema WHERE type='table'\")\n",
    "    tablesInDb = list(map(lambda tableResult: tableResult[0], cursor.fetchall()))\n",
    "    tablesInDb.sort()\n",
    "\n",
    "    for table in tables:\n",
    "        if not(table in tablesInDb):\n",
    "            raise Exception('Table not found')\n",
    "\n",
    "testExecutor.execute('Test connection to database', test_sqliteConnection)"
   ]
  },
  {
   "cell_type": "markdown",
   "metadata": {},
   "source": [
    "## Daten in Datenbank laden"
   ]
  },
  {
   "cell_type": "code",
   "execution_count": null,
   "metadata": {},
   "outputs": [],
   "source": [
    "logger.startTimeMeasurement('load-data', 'Loading data into db')\n",
    "for table in tables:\n",
    "    extract.insert_values_to_table(logger, connection.cursor(), table, \"../data/allergy/\" + table + \".csv\")\n",
    "    connection.commit()\n",
    "logger.endTimeMeasurement('load-data')"
   ]
  },
  {
   "cell_type": "markdown",
   "metadata": {},
   "source": [
    "## Aufräumen & Logs speichern"
   ]
  },
  {
   "cell_type": "code",
   "execution_count": null,
   "metadata": {},
   "outputs": [],
   "source": [
    "connection.close()\n",
    "logger.logTimings()\n",
    "logger.writeToFile(\"../artefacts-for-release/analysis-log.json\")"
   ]
  }
 ],
 "metadata": {
  "interpreter": {
   "hash": "aee8b7b246df8f9039afb4144a1f6fd8d2ca17a180786b69acc140d282b71a49"
  },
  "kernelspec": {
   "display_name": "Python 3.9.12 64-bit",
   "language": "python",
   "name": "python3"
  },
  "language_info": {
   "codemirror_mode": {
    "name": "ipython",
    "version": 3
   },
   "file_extension": ".py",
   "mimetype": "text/x-python",
   "name": "python",
   "nbconvert_exporter": "python",
   "pygments_lexer": "ipython3",
   "version": "3.9.13"
  },
  "orig_nbformat": 4
 },
 "nbformat": 4,
 "nbformat_minor": 2
}
